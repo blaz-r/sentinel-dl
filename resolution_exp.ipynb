{
 "cells": [
  {
   "cell_type": "code",
   "id": "initial_id",
   "metadata": {
    "collapsed": true,
    "ExecuteTime": {
     "end_time": "2024-10-29T13:10:26.838034Z",
     "start_time": "2024-10-29T13:10:26.774205Z"
    }
   },
   "source": [
    "from IPython.core.pylabtools import figsize\n",
    "from dateutil.relativedelta import relativedelta\n",
    "from dateutil.utils import today\n",
    "from eolearn.core import (\n",
    "    FeatureType,\n",
    "    SaveTask,\n",
    "    linearly_connect_tasks,\n",
    "    EOWorkflow,\n",
    "    EOExecutor,\n",
    "    OutputTask,\n",
    ")\n",
    "from eolearn.io import get_available_timestamps, SentinelHubInputTask\n",
    "from sentinelhub import SHConfig, BBox, CRS, DataCollection\n",
    "import matplotlib.pyplot as plt\n",
    "from eolearn.core import EOPatch\n",
    "import numpy as np\n",
    "import geopandas as gpd\n",
    "from pathlib import Path\n",
    "from importlib import reload\n",
    "from matplotlib import pyplot as plt"
   ],
   "outputs": [],
   "execution_count": 64
  },
  {
   "cell_type": "code",
   "id": "cb0a78bee8839a20",
   "metadata": {
    "ExecuteTime": {
     "end_time": "2024-10-29T13:10:26.878045Z",
     "start_time": "2024-10-29T13:10:26.850554Z"
    }
   },
   "source": [
    "config = SHConfig(profile=\"sentinel-dl\")"
   ],
   "outputs": [],
   "execution_count": 65
  },
  {
   "cell_type": "markdown",
   "id": "1e1fe3afc1687dbc",
   "metadata": {},
   "source": [
    "# Resolution (resolution), resolution (size) and resolution (bbox size).\n",
    "Sounds as confusing as it is...\n",
    "in this case `resolution` refers to sentinel sampling resolution in meters (usually 10m). Size refers to resolution of patch in pixels. Then bbox also contains size in meters of earth covered.\n",
    "\n",
    "It's important to be careful when setting these up.\n",
    "Side note: `SentinelHubInputTask` can't take simultaneous `size` and `resolution`, so in order to get let's say region of 2560m with resolution of 10m we need bbox with 2560m side and pass resolution=10. \n",
    "The problem is if you want to have a region of 5120m with resolution of 20m and patch of 512x512pixels, because this will default to 256x256 (as that is the size if you sample 5120m with spatial resolution of 20m).\n",
    "Now one can try this: specify 5120m sided bbox and set size to 512 (but you can't also specify resolution). This then yields 512x512 res just fine, but it doesn't say which sampling resolution it uses (probably 10). "
   ]
  },
  {
   "cell_type": "code",
   "id": "446e895e5f5165ab",
   "metadata": {
    "ExecuteTime": {
     "end_time": "2024-10-29T13:10:26.947913Z",
     "start_time": "2024-10-29T13:10:26.920303Z"
    }
   },
   "source": [
    "def test(r, p, f, force_res=None):\n",
    "    resolution = r\n",
    "    patch_size = p\n",
    "    collection = DataCollection.SENTINEL2_L1C\n",
    "\n",
    "    import util.region as rt\n",
    "    from util.region import prepare_slo_chunks\n",
    "\n",
    "    gdf, bbox_list = prepare_slo_chunks(\n",
    "        resolution=resolution, patch_size=patch_size, fixed_meter_patch_size=f\n",
    "    )\n",
    "    if force_res is None:\n",
    "        input_task = SentinelHubInputTask(\n",
    "            data_collection=collection,\n",
    "            bands=[\"B01\", \"B02\", \"B03\"],\n",
    "            bands_feature=(FeatureType.DATA, \"L1C_data\"),\n",
    "            additional_data=[(FeatureType.MASK, \"dataMask\")],  # cloud mask\n",
    "            maxcc=0.8,\n",
    "            size=(\n",
    "                patch_size,\n",
    "                patch_size,\n",
    "            ),\n",
    "            config=config,  # important since we are using sentinel-dl, alternatively save ID and secret to default profile\n",
    "        )\n",
    "    else:\n",
    "        input_task = SentinelHubInputTask(\n",
    "            data_collection=collection,\n",
    "            bands=[\"B01\", \"B02\", \"B03\"],\n",
    "            bands_feature=(FeatureType.DATA, \"L1C_data\"),\n",
    "            additional_data=[(FeatureType.MASK, \"dataMask\")],  # cloud mask\n",
    "            maxcc=0.8,\n",
    "            resolution=r,\n",
    "            config=config,  # important since we are using sentinel-dl, alternatively save ID and secret to default profile\n",
    "        )\n",
    "    # save = SaveTask(\"eopatch_fd\")\n",
    "    output_task = OutputTask(\"eopatch\")\n",
    "    workflow_nodes = linearly_connect_tasks(\n",
    "        input_task,\n",
    "        # save,\n",
    "        output_task,\n",
    "    )\n",
    "    workflow = EOWorkflow(workflow_nodes)\n",
    "    # workflow.dependency_graph() additionally install graphviz and eo-learn[VISUALIZATION]\n",
    "    # take nodes, these are not the same as tasks!!!\n",
    "    input_node = workflow_nodes[0]\n",
    "\n",
    "    execution_args = [\n",
    "        {\n",
    "            input_node: {\"bbox\": bbox_list[0], \"time_interval\": None},\n",
    "            # save_node: {\"eopatch_folder\": \"eopatch_file2\"},\n",
    "        }\n",
    "    ]\n",
    "\n",
    "    executor = EOExecutor(workflow, execution_args, logs_folder=\"./reports\")\n",
    "    res = executor.run(workers=4)\n",
    "\n",
    "    executor.make_report()\n",
    "\n",
    "    failed_ids = executor.get_failed_executions()\n",
    "    if failed_ids:\n",
    "        raise RuntimeError(\n",
    "            f\"Execution failed EOPatches with IDs:\\n{failed_ids}\\n\"\n",
    "            f\"For more info check report at {executor.get_report_path()}\"\n",
    "        )\n",
    "\n",
    "    return res[0].outputs[\"eopatch\"]"
   ],
   "outputs": [],
   "execution_count": 66
  },
  {
   "cell_type": "code",
   "id": "f8d0d9e421c64f49",
   "metadata": {
    "ExecuteTime": {
     "end_time": "2024-10-29T13:10:32.427024Z",
     "start_time": "2024-10-29T13:10:26.982038Z"
    }
   },
   "source": [
    "p1 = test(10, 512, None)"
   ],
   "outputs": [
    {
     "name": "stderr",
     "output_type": "stream",
     "text": [
      "100%|██████████| 1/1 [00:04<00:00,  4.57s/it]\n",
      "C:\\Users\\blazr\\miniconda3\\envs\\sentinel_env\\lib\\site-packages\\eolearn\\visualization\\eoexecutor.py:62: EOUserWarning: failed to execute WindowsPath('dot'), make sure the Graphviz executables are on your systems' PATH.\n",
      "Please install the system package 'graphviz' (in addition to the python package) to have the dependency graph in the final report!\n",
      "  warnings.warn(\n"
     ]
    }
   ],
   "execution_count": 67
  },
  {
   "cell_type": "code",
   "id": "11adb940978cc9fa",
   "metadata": {
    "ExecuteTime": {
     "end_time": "2024-10-29T13:10:37.677304Z",
     "start_time": "2024-10-29T13:10:32.464112Z"
    }
   },
   "source": [
    "p2 = test(20, 512, 5120)"
   ],
   "outputs": [
    {
     "name": "stdout",
     "output_type": "stream",
     "text": [
      "Fixing bbox chunk size to 5120 m, resolution and patch_size are ignored.\n"
     ]
    },
    {
     "name": "stderr",
     "output_type": "stream",
     "text": [
      "100%|██████████| 1/1 [00:04<00:00,  4.46s/it]\n",
      "C:\\Users\\blazr\\miniconda3\\envs\\sentinel_env\\lib\\site-packages\\eolearn\\visualization\\eoexecutor.py:62: EOUserWarning: failed to execute WindowsPath('dot'), make sure the Graphviz executables are on your systems' PATH.\n",
      "Please install the system package 'graphviz' (in addition to the python package) to have the dependency graph in the final report!\n",
      "  warnings.warn(\n"
     ]
    }
   ],
   "execution_count": 68
  },
  {
   "cell_type": "code",
   "id": "b76cb2d0fd5bbdd",
   "metadata": {
    "ExecuteTime": {
     "end_time": "2024-10-29T13:10:37.741287Z",
     "start_time": "2024-10-29T13:10:37.719333Z"
    }
   },
   "source": [
    "print(p1)\n",
    "print(p2)"
   ],
   "outputs": [
    {
     "name": "stdout",
     "output_type": "stream",
     "text": [
      "EOPatch(\n",
      "  bbox=BBox(((368640.0, 5125120.0), (373760.0, 5130240.0)), crs=CRS('32633'))\n",
      "  mask={\n",
      "    dataMask: numpy.ndarray(shape=(1, 512, 512, 1), dtype=bool)\n",
      "  }\n",
      "  data={\n",
      "    L1C_data: numpy.ndarray(shape=(1, 512, 512, 3), dtype=float32)\n",
      "  }\n",
      ")\n",
      "EOPatch(\n",
      "  bbox=BBox(((368640.0, 5125120.0), (373760.0, 5130240.0)), crs=CRS('32633'))\n",
      "  mask={\n",
      "    dataMask: numpy.ndarray(shape=(1, 512, 512, 1), dtype=bool)\n",
      "  }\n",
      "  data={\n",
      "    L1C_data: numpy.ndarray(shape=(1, 512, 512, 3), dtype=float32)\n",
      "  }\n",
      ")\n"
     ]
    }
   ],
   "execution_count": 69
  },
  {
   "cell_type": "code",
   "id": "c9bd23dee8389caf",
   "metadata": {
    "ExecuteTime": {
     "end_time": "2024-10-29T13:10:37.852038Z",
     "start_time": "2024-10-29T13:10:37.839380Z"
    }
   },
   "source": [
    "# should be the same\n",
    "p1.bbox == p2.bbox"
   ],
   "outputs": [
    {
     "data": {
      "text/plain": [
       "True"
      ]
     },
     "execution_count": 70,
     "metadata": {},
     "output_type": "execute_result"
    }
   ],
   "execution_count": 70
  },
  {
   "cell_type": "code",
   "id": "ebca20e84effe09",
   "metadata": {
    "ExecuteTime": {
     "end_time": "2024-10-29T13:10:45.440915Z",
     "start_time": "2024-10-29T13:10:37.919495Z"
    }
   },
   "source": [
    "p3 = test(10, 1024, 2560)"
   ],
   "outputs": [
    {
     "name": "stdout",
     "output_type": "stream",
     "text": [
      "Fixing bbox chunk size to 2560 m, resolution and patch_size are ignored.\n"
     ]
    },
    {
     "name": "stderr",
     "output_type": "stream",
     "text": [
      "100%|██████████| 1/1 [00:05<00:00,  5.65s/it]\n",
      "C:\\Users\\blazr\\miniconda3\\envs\\sentinel_env\\lib\\site-packages\\eolearn\\visualization\\eoexecutor.py:62: EOUserWarning: failed to execute WindowsPath('dot'), make sure the Graphviz executables are on your systems' PATH.\n",
      "Please install the system package 'graphviz' (in addition to the python package) to have the dependency graph in the final report!\n",
      "  warnings.warn(\n"
     ]
    }
   ],
   "execution_count": 71
  },
  {
   "cell_type": "code",
   "id": "973add66eb9da640",
   "metadata": {
    "ExecuteTime": {
     "end_time": "2024-10-29T13:10:45.488420Z",
     "start_time": "2024-10-29T13:10:45.475096Z"
    }
   },
   "source": [
    "p3"
   ],
   "outputs": [
    {
     "data": {
      "text/plain": [
       "EOPatch(\n",
       "  bbox=BBox(((371200.0, 5125120.0), (373760.0, 5127680.0)), crs=CRS('32633'))\n",
       "  mask={\n",
       "    dataMask: numpy.ndarray(shape=(1, 1024, 1024, 1), dtype=bool)\n",
       "  }\n",
       "  data={\n",
       "    L1C_data: numpy.ndarray(shape=(1, 1024, 1024, 3), dtype=float32)\n",
       "  }\n",
       ")"
      ]
     },
     "execution_count": 72,
     "metadata": {},
     "output_type": "execute_result"
    }
   ],
   "execution_count": 72
  },
  {
   "cell_type": "code",
   "id": "5e558d63f25bd78c",
   "metadata": {
    "ExecuteTime": {
     "end_time": "2024-10-29T13:10:50.784247Z",
     "start_time": "2024-10-29T13:10:45.522532Z"
    }
   },
   "source": [
    "p4 = test(10, 256, None)"
   ],
   "outputs": [
    {
     "name": "stderr",
     "output_type": "stream",
     "text": [
      "100%|██████████| 1/1 [00:03<00:00,  4.00s/it]\n",
      "C:\\Users\\blazr\\miniconda3\\envs\\sentinel_env\\lib\\site-packages\\eolearn\\visualization\\eoexecutor.py:62: EOUserWarning: failed to execute WindowsPath('dot'), make sure the Graphviz executables are on your systems' PATH.\n",
      "Please install the system package 'graphviz' (in addition to the python package) to have the dependency graph in the final report!\n",
      "  warnings.warn(\n"
     ]
    }
   ],
   "execution_count": 73
  },
  {
   "cell_type": "code",
   "id": "e395a9746b107e71",
   "metadata": {
    "ExecuteTime": {
     "end_time": "2024-10-29T13:10:50.841780Z",
     "start_time": "2024-10-29T13:10:50.829832Z"
    }
   },
   "source": [
    "# should be same region, but different res\n",
    "p3.bbox == p4.bbox"
   ],
   "outputs": [
    {
     "data": {
      "text/plain": [
       "True"
      ]
     },
     "execution_count": 74,
     "metadata": {},
     "output_type": "execute_result"
    }
   ],
   "execution_count": 74
  },
  {
   "cell_type": "code",
   "id": "1318f3319eefa420",
   "metadata": {
    "ExecuteTime": {
     "end_time": "2024-10-29T13:10:51.963579Z",
     "start_time": "2024-10-29T13:10:50.874016Z"
    }
   },
   "source": [
    "fig, axs = plt.subplots(1, 2, figsize=(40, 20))\n",
    "\n",
    "axs[0].imshow(np.clip(p3.data[\"L1C_data\"][0][..., [2, 1, 0]], 0, 1))\n",
    "axs[1].imshow(np.clip(p4.data[\"L1C_data\"][0][..., [2, 1, 0]], 0, 1))\n",
    "plt.savefig(\"comp_mega.png\")"
   ],
   "outputs": [],
   "execution_count": 75
  },
  {
   "cell_type": "code",
   "id": "10515e10282c14eb",
   "metadata": {
    "ExecuteTime": {
     "end_time": "2024-10-29T13:10:52.010956Z",
     "start_time": "2024-10-29T13:10:51.998295Z"
    }
   },
   "source": [
    "p4"
   ],
   "outputs": [
    {
     "data": {
      "text/plain": [
       "EOPatch(\n",
       "  bbox=BBox(((371200.0, 5125120.0), (373760.0, 5127680.0)), crs=CRS('32633'))\n",
       "  mask={\n",
       "    dataMask: numpy.ndarray(shape=(1, 256, 256, 1), dtype=bool)\n",
       "  }\n",
       "  data={\n",
       "    L1C_data: numpy.ndarray(shape=(1, 256, 256, 3), dtype=float32)\n",
       "  }\n",
       ")"
      ]
     },
     "execution_count": 76,
     "metadata": {},
     "output_type": "execute_result"
    }
   ],
   "execution_count": 76
  },
  {
   "cell_type": "code",
   "id": "f73ba5143d615f83",
   "metadata": {
    "ExecuteTime": {
     "end_time": "2024-10-29T13:10:52.250373Z",
     "start_time": "2024-10-29T13:10:52.049740Z"
    }
   },
   "source": [
    "fig, axs = plt.subplots(1, 2)\n",
    "\n",
    "axs[0].imshow(np.clip(p1.data[\"L1C_data\"][0][..., [2, 1, 0]], 0, 1))\n",
    "axs[1].imshow(np.clip(p2.data[\"L1C_data\"][0][..., [2, 1, 0]], 0, 1))\n",
    "plt.savefig(\"comp2.png\")"
   ],
   "outputs": [],
   "execution_count": 77
  },
  {
   "cell_type": "code",
   "id": "8f6b8be37fb1ec1",
   "metadata": {
    "ExecuteTime": {
     "end_time": "2024-10-29T13:11:02.321907Z",
     "start_time": "2024-10-29T13:10:52.283058Z"
    }
   },
   "source": [
    "# problematic stuff\n",
    "p5 = test(10, 512, None)\n",
    "# setting fixed size of bbox in meters and then passing resolution will impact patch pixel resolution.\n",
    "# also keep in mind that this \"resolution\" enforced is the default behavior of actual code.\n",
    "p6 = test(20, 512, 5120, force_res=20)"
   ],
   "outputs": [
    {
     "name": "stderr",
     "output_type": "stream",
     "text": [
      "100%|██████████| 1/1 [00:04<00:00,  4.76s/it]\n",
      "C:\\Users\\blazr\\miniconda3\\envs\\sentinel_env\\lib\\site-packages\\eolearn\\visualization\\eoexecutor.py:62: EOUserWarning: failed to execute WindowsPath('dot'), make sure the Graphviz executables are on your systems' PATH.\n",
      "Please install the system package 'graphviz' (in addition to the python package) to have the dependency graph in the final report!\n",
      "  warnings.warn(\n"
     ]
    },
    {
     "name": "stdout",
     "output_type": "stream",
     "text": [
      "Fixing bbox chunk size to 5120 m, resolution and patch_size are ignored.\n"
     ]
    },
    {
     "name": "stderr",
     "output_type": "stream",
     "text": [
      "100%|██████████| 1/1 [00:03<00:00,  3.96s/it]\n",
      "C:\\Users\\blazr\\miniconda3\\envs\\sentinel_env\\lib\\site-packages\\eolearn\\visualization\\eoexecutor.py:62: EOUserWarning: failed to execute WindowsPath('dot'), make sure the Graphviz executables are on your systems' PATH.\n",
      "Please install the system package 'graphviz' (in addition to the python package) to have the dependency graph in the final report!\n",
      "  warnings.warn(\n"
     ]
    }
   ],
   "execution_count": 78
  },
  {
   "cell_type": "code",
   "id": "a88647ebcad1c509",
   "metadata": {
    "ExecuteTime": {
     "end_time": "2024-10-29T13:11:02.377634Z",
     "start_time": "2024-10-29T13:11:02.361351Z"
    }
   },
   "source": [
    "print(p5)\n",
    "print(p6)"
   ],
   "outputs": [
    {
     "name": "stdout",
     "output_type": "stream",
     "text": [
      "EOPatch(\n",
      "  bbox=BBox(((368640.0, 5125120.0), (373760.0, 5130240.0)), crs=CRS('32633'))\n",
      "  mask={\n",
      "    dataMask: numpy.ndarray(shape=(1, 512, 512, 1), dtype=bool)\n",
      "  }\n",
      "  data={\n",
      "    L1C_data: numpy.ndarray(shape=(1, 512, 512, 3), dtype=float32)\n",
      "  }\n",
      ")\n",
      "EOPatch(\n",
      "  bbox=BBox(((368640.0, 5125120.0), (373760.0, 5130240.0)), crs=CRS('32633'))\n",
      "  mask={\n",
      "    dataMask: numpy.ndarray(shape=(1, 256, 256, 1), dtype=bool)\n",
      "  }\n",
      "  data={\n",
      "    L1C_data: numpy.ndarray(shape=(1, 256, 256, 3), dtype=float32)\n",
      "  }\n",
      ")\n"
     ]
    }
   ],
   "execution_count": 79
  },
  {
   "cell_type": "code",
   "id": "d0d486b2969a8b82",
   "metadata": {
    "ExecuteTime": {
     "end_time": "2024-10-29T13:11:02.425849Z",
     "start_time": "2024-10-29T13:11:02.413267Z"
    }
   },
   "source": [
    "p5.bbox == p6.bbox"
   ],
   "outputs": [
    {
     "data": {
      "text/plain": [
       "True"
      ]
     },
     "execution_count": 80,
     "metadata": {},
     "output_type": "execute_result"
    }
   ],
   "execution_count": 80
  },
  {
   "cell_type": "code",
   "id": "4c1c7032ae0af684",
   "metadata": {
    "ExecuteTime": {
     "end_time": "2024-10-29T13:11:02.473361Z",
     "start_time": "2024-10-29T13:11:02.459905Z"
    }
   },
   "source": [
    "print(p5.timestamps)"
   ],
   "outputs": [
    {
     "name": "stdout",
     "output_type": "stream",
     "text": [
      "None\n"
     ]
    }
   ],
   "execution_count": 81
  },
  {
   "cell_type": "code",
   "id": "fe33f58246e415be",
   "metadata": {
    "ExecuteTime": {
     "end_time": "2024-10-29T13:11:02.521152Z",
     "start_time": "2024-10-29T13:11:02.507266Z"
    }
   },
   "source": [],
   "outputs": [],
   "execution_count": null
  }
 ],
 "metadata": {
  "kernelspec": {
   "display_name": "Python 3",
   "language": "python",
   "name": "python3"
  },
  "language_info": {
   "codemirror_mode": {
    "name": "ipython",
    "version": 2
   },
   "file_extension": ".py",
   "mimetype": "text/x-python",
   "name": "python",
   "nbconvert_exporter": "python",
   "pygments_lexer": "ipython2",
   "version": "2.7.6"
  }
 },
 "nbformat": 4,
 "nbformat_minor": 5
}
