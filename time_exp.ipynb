{
 "cells": [
  {
   "cell_type": "code",
   "execution_count": 1,
   "id": "initial_id",
   "metadata": {
    "ExecuteTime": {
     "end_time": "2024-10-29T13:14:38.229273Z",
     "start_time": "2024-10-29T13:14:35.636879Z"
    },
    "collapsed": true
   },
   "outputs": [
    {
     "name": "stderr",
     "output_type": "stream",
     "text": [
      "C:\\Users\\blazr\\miniconda3\\envs\\sentinel_env\\lib\\site-packages\\tqdm\\auto.py:21: TqdmWarning: IProgress not found. Please update jupyter and ipywidgets. See https://ipywidgets.readthedocs.io/en/stable/user_install.html\n",
      "  from .autonotebook import tqdm as notebook_tqdm\n"
     ]
    }
   ],
   "source": [
    "from IPython.core.pylabtools import figsize\n",
    "from dateutil.relativedelta import relativedelta\n",
    "from dateutil.utils import today\n",
    "from eolearn.core import (\n",
    "    FeatureType,\n",
    "    SaveTask,\n",
    "    linearly_connect_tasks,\n",
    "    EOWorkflow,\n",
    "    EOExecutor,\n",
    "    OutputTask,\n",
    ")\n",
    "from eolearn.io import get_available_timestamps, SentinelHubInputTask\n",
    "from sentinelhub import SHConfig, BBox, CRS, DataCollection\n",
    "import matplotlib.pyplot as plt\n",
    "from eolearn.core import EOPatch\n",
    "import numpy as np\n",
    "import geopandas as gpd\n",
    "from pathlib import Path\n",
    "from importlib import reload\n",
    "from matplotlib import pyplot as plt"
   ]
  },
  {
   "cell_type": "code",
   "execution_count": 4,
   "id": "14fa8ba1bf1d6461",
   "metadata": {
    "ExecuteTime": {
     "end_time": "2024-10-29T13:16:07.273246Z",
     "start_time": "2024-10-29T13:16:07.255895Z"
    }
   },
   "outputs": [],
   "source": [
    "config = SHConfig(profile=\"sentinel-dl\")"
   ]
  },
  {
   "cell_type": "code",
   "execution_count": 5,
   "id": "9df4f150e21168dd",
   "metadata": {
    "ExecuteTime": {
     "end_time": "2024-10-29T13:16:07.713132Z",
     "start_time": "2024-10-29T13:16:07.698184Z"
    }
   },
   "outputs": [],
   "source": [
    "def get_box_ts(bbox, interval, maxcc):\n",
    "    today_ts = today()\n",
    "    two_months_ago_ts = today_ts - relativedelta(months=2)\n",
    "    time_of_interest = (two_months_ago_ts, today_ts)\n",
    "\n",
    "    timestamps = get_available_timestamps(\n",
    "        bbox=bbox,\n",
    "        time_interval=interval,\n",
    "        data_collection=DataCollection.SENTINEL2_L1C,\n",
    "        config=config,\n",
    "        maxcc=maxcc,\n",
    "    )"
   ]
  },
  {
   "cell_type": "code",
   "execution_count": 6,
   "id": "4eaee66f7c2b8423",
   "metadata": {
    "ExecuteTime": {
     "end_time": "2024-10-29T13:16:09.976660Z",
     "start_time": "2024-10-29T13:16:08.470935Z"
    }
   },
   "outputs": [
    {
     "name": "stdout",
     "output_type": "stream",
     "text": [
      "Setting chunk sizes to 5120x5120 m^2.\n"
     ]
    },
    {
     "ename": "DownloadFailedException",
     "evalue": "Failed to download from:\nhttps://services.sentinel-hub.com/api/v1/catalog/1.0.0/search\nwith HTTPError:\n400 Client Error: Bad Request for url: https://services.sentinel-hub.com/api/v1/catalog/1.0.0/search\nServer response: \"{\"code\": 400, \"description\": \"One of parameters 'datetime' or 'ids' need to be set.\"}\"",
     "output_type": "error",
     "traceback": [
      "\u001b[1;31m---------------------------------------------------------------------------\u001b[0m",
      "\u001b[1;31mHTTPError\u001b[0m                                 Traceback (most recent call last)",
      "File \u001b[1;32m~\\miniconda3\\envs\\sentinel_env\\lib\\site-packages\\sentinelhub\\download\\handlers.py:40\u001b[0m, in \u001b[0;36mfail_user_errors.<locals>.new_download_func\u001b[1;34m(self, request)\u001b[0m\n\u001b[0;32m     39\u001b[0m \u001b[38;5;28;01mtry\u001b[39;00m:\n\u001b[1;32m---> 40\u001b[0m     \u001b[38;5;28;01mreturn\u001b[39;00m \u001b[43mdownload_func\u001b[49m\u001b[43m(\u001b[49m\u001b[38;5;28;43mself\u001b[39;49m\u001b[43m,\u001b[49m\u001b[43m \u001b[49m\u001b[43mrequest\u001b[49m\u001b[43m)\u001b[49m\n\u001b[0;32m     41\u001b[0m \u001b[38;5;28;01mexcept\u001b[39;00m requests\u001b[38;5;241m.\u001b[39mHTTPError \u001b[38;5;28;01mas\u001b[39;00m exception:\n",
      "File \u001b[1;32m~\\miniconda3\\envs\\sentinel_env\\lib\\site-packages\\sentinelhub\\download\\sentinelhub_client.py:100\u001b[0m, in \u001b[0;36mSentinelHubDownloadClient._execute_download\u001b[1;34m(self, request)\u001b[0m\n\u001b[0;32m     98\u001b[0m     \u001b[38;5;28;01mcontinue\u001b[39;00m\n\u001b[1;32m--> 100\u001b[0m \u001b[43mresponse\u001b[49m\u001b[38;5;241;43m.\u001b[39;49m\u001b[43mraise_for_status\u001b[49m\u001b[43m(\u001b[49m\u001b[43m)\u001b[49m\n\u001b[0;32m    102\u001b[0m LOGGER\u001b[38;5;241m.\u001b[39mdebug(\u001b[38;5;124m\"\u001b[39m\u001b[38;5;124mSuccessful \u001b[39m\u001b[38;5;132;01m%s\u001b[39;00m\u001b[38;5;124m request to \u001b[39m\u001b[38;5;132;01m%s\u001b[39;00m\u001b[38;5;124m\"\u001b[39m, request\u001b[38;5;241m.\u001b[39mrequest_type\u001b[38;5;241m.\u001b[39mvalue, request\u001b[38;5;241m.\u001b[39murl)\n",
      "File \u001b[1;32m~\\miniconda3\\envs\\sentinel_env\\lib\\site-packages\\requests\\models.py:1024\u001b[0m, in \u001b[0;36mResponse.raise_for_status\u001b[1;34m(self)\u001b[0m\n\u001b[0;32m   1023\u001b[0m \u001b[38;5;28;01mif\u001b[39;00m http_error_msg:\n\u001b[1;32m-> 1024\u001b[0m     \u001b[38;5;28;01mraise\u001b[39;00m HTTPError(http_error_msg, response\u001b[38;5;241m=\u001b[39m\u001b[38;5;28mself\u001b[39m)\n",
      "\u001b[1;31mHTTPError\u001b[0m: 400 Client Error: Bad Request for url: https://services.sentinel-hub.com/api/v1/catalog/1.0.0/search",
      "\nThe above exception was the direct cause of the following exception:\n",
      "\u001b[1;31mDownloadFailedException\u001b[0m                   Traceback (most recent call last)",
      "Cell \u001b[1;32mIn[6], line 5\u001b[0m\n\u001b[0;32m      1\u001b[0m \u001b[38;5;28;01mfrom\u001b[39;00m \u001b[38;5;21;01mutil\u001b[39;00m\u001b[38;5;21;01m.\u001b[39;00m\u001b[38;5;21;01mregion\u001b[39;00m \u001b[38;5;28;01mimport\u001b[39;00m prepare_slo_chunks\n\u001b[0;32m      3\u001b[0m _, bboxes \u001b[38;5;241m=\u001b[39m prepare_slo_chunks()\n\u001b[1;32m----> 5\u001b[0m ts_list \u001b[38;5;241m=\u001b[39m [get_box_ts(b) \u001b[38;5;28;01mfor\u001b[39;00m b \u001b[38;5;129;01min\u001b[39;00m bboxes]\n",
      "Cell \u001b[1;32mIn[6], line 5\u001b[0m, in \u001b[0;36m<listcomp>\u001b[1;34m(.0)\u001b[0m\n\u001b[0;32m      1\u001b[0m \u001b[38;5;28;01mfrom\u001b[39;00m \u001b[38;5;21;01mutil\u001b[39;00m\u001b[38;5;21;01m.\u001b[39;00m\u001b[38;5;21;01mregion\u001b[39;00m \u001b[38;5;28;01mimport\u001b[39;00m prepare_slo_chunks\n\u001b[0;32m      3\u001b[0m _, bboxes \u001b[38;5;241m=\u001b[39m prepare_slo_chunks()\n\u001b[1;32m----> 5\u001b[0m ts_list \u001b[38;5;241m=\u001b[39m [\u001b[43mget_box_ts\u001b[49m\u001b[43m(\u001b[49m\u001b[43mb\u001b[49m\u001b[43m)\u001b[49m \u001b[38;5;28;01mfor\u001b[39;00m b \u001b[38;5;129;01min\u001b[39;00m bboxes]\n",
      "Cell \u001b[1;32mIn[5], line 3\u001b[0m, in \u001b[0;36mget_box_ts\u001b[1;34m(bbox)\u001b[0m\n\u001b[0;32m      1\u001b[0m \u001b[38;5;28;01mdef\u001b[39;00m \u001b[38;5;21mget_box_ts\u001b[39m(bbox):\n\u001b[0;32m      2\u001b[0m     \u001b[38;5;66;03m# return latest\u001b[39;00m\n\u001b[1;32m----> 3\u001b[0m     timestamps \u001b[38;5;241m=\u001b[39m \u001b[43mget_available_timestamps\u001b[49m\u001b[43m(\u001b[49m\n\u001b[0;32m      4\u001b[0m \u001b[43m        \u001b[49m\u001b[43mbbox\u001b[49m\u001b[38;5;241;43m=\u001b[39;49m\u001b[43mbbox\u001b[49m\u001b[43m,\u001b[49m\n\u001b[0;32m      5\u001b[0m \u001b[43m        \u001b[49m\u001b[43mtime_interval\u001b[49m\u001b[38;5;241;43m=\u001b[39;49m\u001b[38;5;28;43;01mNone\u001b[39;49;00m\u001b[43m,\u001b[49m\n\u001b[0;32m      6\u001b[0m \u001b[43m        \u001b[49m\u001b[43mdata_collection\u001b[49m\u001b[38;5;241;43m=\u001b[39;49m\u001b[43mDataCollection\u001b[49m\u001b[38;5;241;43m.\u001b[39;49m\u001b[43mSENTINEL2_L1C\u001b[49m\u001b[43m,\u001b[49m\n\u001b[0;32m      7\u001b[0m \u001b[43m        \u001b[49m\u001b[43mconfig\u001b[49m\u001b[38;5;241;43m=\u001b[39;49m\u001b[43mconfig\u001b[49m\u001b[43m,\u001b[49m\n\u001b[0;32m      8\u001b[0m \u001b[43m    \u001b[49m\u001b[43m)\u001b[49m\n",
      "File \u001b[1;32m~\\miniconda3\\envs\\sentinel_env\\lib\\site-packages\\sentinelhub\\api\\catalog.py:315\u001b[0m, in \u001b[0;36mget_available_timestamps\u001b[1;34m(bbox, time_interval, data_collection, time_difference, ignore_tz, maxcc, config)\u001b[0m\n\u001b[0;32m    310\u001b[0m catalog \u001b[38;5;241m=\u001b[39m SentinelHubCatalog(config\u001b[38;5;241m=\u001b[39mconfig)\n\u001b[0;32m    311\u001b[0m search_iterator \u001b[38;5;241m=\u001b[39m catalog\u001b[38;5;241m.\u001b[39msearch(\n\u001b[0;32m    312\u001b[0m     collection\u001b[38;5;241m=\u001b[39mdata_collection, bbox\u001b[38;5;241m=\u001b[39mbbox, time\u001b[38;5;241m=\u001b[39mtime_interval, \u001b[38;5;28mfilter\u001b[39m\u001b[38;5;241m=\u001b[39mquery_filter, fields\u001b[38;5;241m=\u001b[39mfields\n\u001b[0;32m    313\u001b[0m )\n\u001b[1;32m--> 315\u001b[0m timestamps \u001b[38;5;241m=\u001b[39m [parse_time(ts, force_datetime\u001b[38;5;241m=\u001b[39m\u001b[38;5;28;01mTrue\u001b[39;00m, ignoretz\u001b[38;5;241m=\u001b[39mignore_tz) \u001b[38;5;28;01mfor\u001b[39;00m ts \u001b[38;5;129;01min\u001b[39;00m \u001b[43msearch_iterator\u001b[49m\u001b[38;5;241;43m.\u001b[39;49m\u001b[43mget_timestamps\u001b[49m\u001b[43m(\u001b[49m\u001b[43m)\u001b[49m]\n\u001b[0;32m    316\u001b[0m \u001b[38;5;28;01mreturn\u001b[39;00m filter_times(timestamps, time_difference)\n",
      "File \u001b[1;32m~\\miniconda3\\envs\\sentinel_env\\lib\\site-packages\\sentinelhub\\api\\catalog.py:258\u001b[0m, in \u001b[0;36mCatalogSearchIterator.get_timestamps\u001b[1;34m(self)\u001b[0m\n\u001b[0;32m    253\u001b[0m \u001b[38;5;28;01mdef\u001b[39;00m \u001b[38;5;21mget_timestamps\u001b[39m(\u001b[38;5;28mself\u001b[39m) \u001b[38;5;241m-\u001b[39m\u001b[38;5;241m>\u001b[39m \u001b[38;5;28mlist\u001b[39m[dt\u001b[38;5;241m.\u001b[39mdatetime]:\n\u001b[0;32m    254\u001b[0m \u001b[38;5;250m    \u001b[39m\u001b[38;5;124;03m\"\"\"Provides features timestamps\u001b[39;00m\n\u001b[0;32m    255\u001b[0m \n\u001b[0;32m    256\u001b[0m \u001b[38;5;124;03m    :return: A list of sensing times\u001b[39;00m\n\u001b[0;32m    257\u001b[0m \u001b[38;5;124;03m    \"\"\"\u001b[39;00m\n\u001b[1;32m--> 258\u001b[0m     \u001b[38;5;28;01mreturn\u001b[39;00m [parse_time(feature[\u001b[38;5;124m\"\u001b[39m\u001b[38;5;124mproperties\u001b[39m\u001b[38;5;124m\"\u001b[39m][\u001b[38;5;124m\"\u001b[39m\u001b[38;5;124mdatetime\u001b[39m\u001b[38;5;124m\"\u001b[39m], force_datetime\u001b[38;5;241m=\u001b[39m\u001b[38;5;28;01mTrue\u001b[39;00m) \u001b[38;5;28;01mfor\u001b[39;00m feature \u001b[38;5;129;01min\u001b[39;00m \u001b[38;5;28mself\u001b[39m]\n",
      "File \u001b[1;32m~\\miniconda3\\envs\\sentinel_env\\lib\\site-packages\\sentinelhub\\api\\catalog.py:258\u001b[0m, in \u001b[0;36m<listcomp>\u001b[1;34m(.0)\u001b[0m\n\u001b[0;32m    253\u001b[0m \u001b[38;5;28;01mdef\u001b[39;00m \u001b[38;5;21mget_timestamps\u001b[39m(\u001b[38;5;28mself\u001b[39m) \u001b[38;5;241m-\u001b[39m\u001b[38;5;241m>\u001b[39m \u001b[38;5;28mlist\u001b[39m[dt\u001b[38;5;241m.\u001b[39mdatetime]:\n\u001b[0;32m    254\u001b[0m \u001b[38;5;250m    \u001b[39m\u001b[38;5;124;03m\"\"\"Provides features timestamps\u001b[39;00m\n\u001b[0;32m    255\u001b[0m \n\u001b[0;32m    256\u001b[0m \u001b[38;5;124;03m    :return: A list of sensing times\u001b[39;00m\n\u001b[0;32m    257\u001b[0m \u001b[38;5;124;03m    \"\"\"\u001b[39;00m\n\u001b[1;32m--> 258\u001b[0m     \u001b[38;5;28;01mreturn\u001b[39;00m [parse_time(feature[\u001b[38;5;124m\"\u001b[39m\u001b[38;5;124mproperties\u001b[39m\u001b[38;5;124m\"\u001b[39m][\u001b[38;5;124m\"\u001b[39m\u001b[38;5;124mdatetime\u001b[39m\u001b[38;5;124m\"\u001b[39m], force_datetime\u001b[38;5;241m=\u001b[39m\u001b[38;5;28;01mTrue\u001b[39;00m) \u001b[38;5;28;01mfor\u001b[39;00m feature \u001b[38;5;129;01min\u001b[39;00m \u001b[38;5;28mself\u001b[39m]\n",
      "File \u001b[1;32m~\\miniconda3\\envs\\sentinel_env\\lib\\site-packages\\sentinelhub\\base.py:277\u001b[0m, in \u001b[0;36mFeatureIterator.__next__\u001b[1;34m(self)\u001b[0m\n\u001b[0;32m    272\u001b[0m \u001b[38;5;250m\u001b[39m\u001b[38;5;124;03m\"\"\"Method called to provide the next feature in iteration\u001b[39;00m\n\u001b[0;32m    273\u001b[0m \n\u001b[0;32m    274\u001b[0m \u001b[38;5;124;03m:return: the next feature\u001b[39;00m\n\u001b[0;32m    275\u001b[0m \u001b[38;5;124;03m\"\"\"\u001b[39;00m\n\u001b[0;32m    276\u001b[0m \u001b[38;5;28;01mwhile\u001b[39;00m \u001b[38;5;28mself\u001b[39m\u001b[38;5;241m.\u001b[39mindex \u001b[38;5;241m>\u001b[39m\u001b[38;5;241m=\u001b[39m \u001b[38;5;28mlen\u001b[39m(\u001b[38;5;28mself\u001b[39m\u001b[38;5;241m.\u001b[39mfeatures) \u001b[38;5;129;01mand\u001b[39;00m \u001b[38;5;129;01mnot\u001b[39;00m \u001b[38;5;28mself\u001b[39m\u001b[38;5;241m.\u001b[39mfinished:\n\u001b[1;32m--> 277\u001b[0m     new_features \u001b[38;5;241m=\u001b[39m \u001b[38;5;28;43mself\u001b[39;49m\u001b[38;5;241;43m.\u001b[39;49m\u001b[43m_fetch_features\u001b[49m\u001b[43m(\u001b[49m\u001b[43m)\u001b[49m\n\u001b[0;32m    278\u001b[0m     \u001b[38;5;28mself\u001b[39m\u001b[38;5;241m.\u001b[39mfeatures\u001b[38;5;241m.\u001b[39mextend(new_features)\n\u001b[0;32m    280\u001b[0m \u001b[38;5;28;01mif\u001b[39;00m \u001b[38;5;28mself\u001b[39m\u001b[38;5;241m.\u001b[39mindex \u001b[38;5;241m<\u001b[39m \u001b[38;5;28mlen\u001b[39m(\u001b[38;5;28mself\u001b[39m\u001b[38;5;241m.\u001b[39mfeatures):\n",
      "File \u001b[1;32m~\\miniconda3\\envs\\sentinel_env\\lib\\site-packages\\sentinelhub\\api\\catalog.py:245\u001b[0m, in \u001b[0;36mCatalogSearchIterator._fetch_features\u001b[1;34m(self)\u001b[0m\n\u001b[0;32m    242\u001b[0m \u001b[38;5;250m\u001b[39m\u001b[38;5;124;03m\"\"\"Collects more results from the service\"\"\"\u001b[39;00m\n\u001b[0;32m    243\u001b[0m payload \u001b[38;5;241m=\u001b[39m remove_undefined({\u001b[38;5;241m*\u001b[39m\u001b[38;5;241m*\u001b[39m\u001b[38;5;28mself\u001b[39m\u001b[38;5;241m.\u001b[39mparams, \u001b[38;5;124m\"\u001b[39m\u001b[38;5;124mnext\u001b[39m\u001b[38;5;124m\"\u001b[39m: \u001b[38;5;28mself\u001b[39m\u001b[38;5;241m.\u001b[39mnext})\n\u001b[1;32m--> 245\u001b[0m results \u001b[38;5;241m=\u001b[39m \u001b[38;5;28;43mself\u001b[39;49m\u001b[38;5;241;43m.\u001b[39;49m\u001b[43mclient\u001b[49m\u001b[38;5;241;43m.\u001b[39;49m\u001b[43mget_json_dict\u001b[49m\u001b[43m(\u001b[49m\u001b[38;5;28;43mself\u001b[39;49m\u001b[38;5;241;43m.\u001b[39;49m\u001b[43murl\u001b[49m\u001b[43m,\u001b[49m\u001b[43m \u001b[49m\u001b[43mpost_values\u001b[49m\u001b[38;5;241;43m=\u001b[39;49m\u001b[43mpayload\u001b[49m\u001b[43m,\u001b[49m\u001b[43m \u001b[49m\u001b[43muse_session\u001b[49m\u001b[38;5;241;43m=\u001b[39;49m\u001b[38;5;28;43;01mTrue\u001b[39;49;00m\u001b[43m)\u001b[49m\n\u001b[0;32m    247\u001b[0m \u001b[38;5;28mself\u001b[39m\u001b[38;5;241m.\u001b[39mnext \u001b[38;5;241m=\u001b[39m results[\u001b[38;5;124m\"\u001b[39m\u001b[38;5;124mcontext\u001b[39m\u001b[38;5;124m\"\u001b[39m]\u001b[38;5;241m.\u001b[39mget(\u001b[38;5;124m\"\u001b[39m\u001b[38;5;124mnext\u001b[39m\u001b[38;5;124m\"\u001b[39m)\n\u001b[0;32m    248\u001b[0m new_features \u001b[38;5;241m=\u001b[39m results[\u001b[38;5;124m\"\u001b[39m\u001b[38;5;124mfeatures\u001b[39m\u001b[38;5;124m\"\u001b[39m]\n",
      "File \u001b[1;32m~\\miniconda3\\envs\\sentinel_env\\lib\\site-packages\\sentinelhub\\download\\client.py:248\u001b[0m, in \u001b[0;36mDownloadClient.get_json_dict\u001b[1;34m(self, url, extract_key, *args, **kwargs)\u001b[0m\n\u001b[0;32m    240\u001b[0m \u001b[38;5;28;01mdef\u001b[39;00m \u001b[38;5;21mget_json_dict\u001b[39m(\u001b[38;5;28mself\u001b[39m, url: \u001b[38;5;28mstr\u001b[39m, \u001b[38;5;241m*\u001b[39margs: Any, extract_key: \u001b[38;5;28mstr\u001b[39m \u001b[38;5;241m|\u001b[39m \u001b[38;5;28;01mNone\u001b[39;00m \u001b[38;5;241m=\u001b[39m \u001b[38;5;28;01mNone\u001b[39;00m, \u001b[38;5;241m*\u001b[39m\u001b[38;5;241m*\u001b[39mkwargs: Any) \u001b[38;5;241m-\u001b[39m\u001b[38;5;241m>\u001b[39m JsonDict:\n\u001b[0;32m    241\u001b[0m \u001b[38;5;250m    \u001b[39m\u001b[38;5;124;03m\"\"\"Download request as JSON data type, failing if the result is not a dictionary\u001b[39;00m\n\u001b[0;32m    242\u001b[0m \n\u001b[0;32m    243\u001b[0m \u001b[38;5;124;03m    For other parameters see `get_json` method.\u001b[39;00m\n\u001b[1;32m   (...)\u001b[0m\n\u001b[0;32m    246\u001b[0m \u001b[38;5;124;03m    :param extract_key: If provided, the field is automatically extracted, checked, and returned\u001b[39;00m\n\u001b[0;32m    247\u001b[0m \u001b[38;5;124;03m    \"\"\"\u001b[39;00m\n\u001b[1;32m--> 248\u001b[0m     response \u001b[38;5;241m=\u001b[39m \u001b[38;5;28mself\u001b[39m\u001b[38;5;241m.\u001b[39mget_json(url, \u001b[38;5;241m*\u001b[39margs, \u001b[38;5;241m*\u001b[39m\u001b[38;5;241m*\u001b[39mkwargs)\n\u001b[0;32m    250\u001b[0m     \u001b[38;5;28;01mif\u001b[39;00m \u001b[38;5;129;01mnot\u001b[39;00m \u001b[38;5;28misinstance\u001b[39m(response, \u001b[38;5;28mdict\u001b[39m):\n\u001b[0;32m    251\u001b[0m         \u001b[38;5;28;01mraise\u001b[39;00m MissingDataInRequestException(\n\u001b[0;32m    252\u001b[0m             \u001b[38;5;124mf\u001b[39m\u001b[38;5;124m\"\u001b[39m\u001b[38;5;124mResponse from \u001b[39m\u001b[38;5;132;01m{\u001b[39;00murl\u001b[38;5;132;01m}\u001b[39;00m\u001b[38;5;124m was expected to be a dictionary, but got \u001b[39m\u001b[38;5;132;01m{\u001b[39;00m\u001b[38;5;28mtype\u001b[39m(response)\u001b[38;5;132;01m}\u001b[39;00m\u001b[38;5;124m.\u001b[39m\u001b[38;5;124m\"\u001b[39m\n\u001b[0;32m    253\u001b[0m         )\n",
      "File \u001b[1;32m~\\miniconda3\\envs\\sentinel_env\\lib\\site-packages\\sentinelhub\\download\\client.py:238\u001b[0m, in \u001b[0;36mDownloadClient.get_json\u001b[1;34m(self, url, post_values, headers, request_type, **kwargs)\u001b[0m\n\u001b[0;32m    227\u001b[0m     json_headers \u001b[38;5;241m=\u001b[39m {\u001b[38;5;124m\"\u001b[39m\u001b[38;5;124mContent-Type\u001b[39m\u001b[38;5;124m\"\u001b[39m: MimeType\u001b[38;5;241m.\u001b[39mJSON\u001b[38;5;241m.\u001b[39mget_string(), \u001b[38;5;241m*\u001b[39m\u001b[38;5;241m*\u001b[39mjson_headers}\n\u001b[0;32m    229\u001b[0m request \u001b[38;5;241m=\u001b[39m DownloadRequest(\n\u001b[0;32m    230\u001b[0m     url\u001b[38;5;241m=\u001b[39murl,\n\u001b[0;32m    231\u001b[0m     headers\u001b[38;5;241m=\u001b[39mjson_headers,\n\u001b[1;32m   (...)\u001b[0m\n\u001b[0;32m    235\u001b[0m     \u001b[38;5;241m*\u001b[39m\u001b[38;5;241m*\u001b[39mkwargs,\n\u001b[0;32m    236\u001b[0m )\n\u001b[1;32m--> 238\u001b[0m \u001b[38;5;28;01mreturn\u001b[39;00m \u001b[38;5;28;43mself\u001b[39;49m\u001b[38;5;241;43m.\u001b[39;49m\u001b[43m_single_download_decoded\u001b[49m\u001b[43m(\u001b[49m\u001b[43mrequest\u001b[49m\u001b[43m)\u001b[49m\n",
      "File \u001b[1;32m~\\miniconda3\\envs\\sentinel_env\\lib\\site-packages\\sentinelhub\\download\\client.py:116\u001b[0m, in \u001b[0;36mDownloadClient._single_download_decoded\u001b[1;34m(self, request)\u001b[0m\n\u001b[0;32m    114\u001b[0m \u001b[38;5;28;01mdef\u001b[39;00m \u001b[38;5;21m_single_download_decoded\u001b[39m(\u001b[38;5;28mself\u001b[39m, request: DownloadRequest) \u001b[38;5;241m-\u001b[39m\u001b[38;5;241m>\u001b[39m Any:\n\u001b[0;32m    115\u001b[0m \u001b[38;5;250m    \u001b[39m\u001b[38;5;124;03m\"\"\"Downloads a response and decodes it into data. By decoding a single response\"\"\"\u001b[39;00m\n\u001b[1;32m--> 116\u001b[0m     response \u001b[38;5;241m=\u001b[39m \u001b[38;5;28;43mself\u001b[39;49m\u001b[38;5;241;43m.\u001b[39;49m\u001b[43m_single_download\u001b[49m\u001b[43m(\u001b[49m\u001b[43mrequest\u001b[49m\u001b[43m)\u001b[49m\n\u001b[0;32m    117\u001b[0m     \u001b[38;5;28;01mreturn\u001b[39;00m \u001b[38;5;28;01mNone\u001b[39;00m \u001b[38;5;28;01mif\u001b[39;00m response \u001b[38;5;129;01mis\u001b[39;00m \u001b[38;5;28;01mNone\u001b[39;00m \u001b[38;5;28;01melse\u001b[39;00m response\u001b[38;5;241m.\u001b[39mdecode()\n",
      "File \u001b[1;32m~\\miniconda3\\envs\\sentinel_env\\lib\\site-packages\\sentinelhub\\download\\client.py:129\u001b[0m, in \u001b[0;36mDownloadClient._single_download\u001b[1;34m(self, request)\u001b[0m\n\u001b[0;32m    127\u001b[0m no_local_data \u001b[38;5;241m=\u001b[39m \u001b[38;5;28mself\u001b[39m\u001b[38;5;241m.\u001b[39mredownload \u001b[38;5;129;01mor\u001b[39;00m response_path \u001b[38;5;129;01mis\u001b[39;00m \u001b[38;5;28;01mNone\u001b[39;00m \u001b[38;5;129;01mor\u001b[39;00m \u001b[38;5;129;01mnot\u001b[39;00m os\u001b[38;5;241m.\u001b[39mpath\u001b[38;5;241m.\u001b[39mexists(response_path)\n\u001b[0;32m    128\u001b[0m \u001b[38;5;28;01mif\u001b[39;00m no_local_data:\n\u001b[1;32m--> 129\u001b[0m     response \u001b[38;5;241m=\u001b[39m \u001b[38;5;28;43mself\u001b[39;49m\u001b[38;5;241;43m.\u001b[39;49m\u001b[43m_execute_download\u001b[49m\u001b[43m(\u001b[49m\u001b[43mrequest\u001b[49m\u001b[43m)\u001b[49m\n\u001b[0;32m    130\u001b[0m \u001b[38;5;28;01melse\u001b[39;00m:\n\u001b[0;32m    131\u001b[0m     \u001b[38;5;28;01mif\u001b[39;00m \u001b[38;5;129;01mnot\u001b[39;00m request\u001b[38;5;241m.\u001b[39mreturn_data \u001b[38;5;129;01mor\u001b[39;00m response_path \u001b[38;5;129;01mis\u001b[39;00m \u001b[38;5;28;01mNone\u001b[39;00m:\n",
      "File \u001b[1;32m~\\miniconda3\\envs\\sentinel_env\\lib\\site-packages\\sentinelhub\\download\\handlers.py:67\u001b[0m, in \u001b[0;36mretry_temporary_errors.<locals>.new_download_func\u001b[1;34m(self, request)\u001b[0m\n\u001b[0;32m     65\u001b[0m \u001b[38;5;28;01mfor\u001b[39;00m attempt_idx \u001b[38;5;129;01min\u001b[39;00m \u001b[38;5;28mrange\u001b[39m(download_attempts):\n\u001b[0;32m     66\u001b[0m     \u001b[38;5;28;01mtry\u001b[39;00m:\n\u001b[1;32m---> 67\u001b[0m         \u001b[38;5;28;01mreturn\u001b[39;00m \u001b[43mdownload_func\u001b[49m\u001b[43m(\u001b[49m\u001b[38;5;28;43mself\u001b[39;49m\u001b[43m,\u001b[49m\u001b[43m \u001b[49m\u001b[43mrequest\u001b[49m\u001b[43m)\u001b[49m\n\u001b[0;32m     69\u001b[0m     \u001b[38;5;28;01mexcept\u001b[39;00m requests\u001b[38;5;241m.\u001b[39mRequestException \u001b[38;5;28;01mas\u001b[39;00m exception:  \u001b[38;5;66;03m# noqa: PERF203\u001b[39;00m\n\u001b[0;32m     70\u001b[0m         attempts_left \u001b[38;5;241m=\u001b[39m download_attempts \u001b[38;5;241m-\u001b[39m (attempt_idx \u001b[38;5;241m+\u001b[39m \u001b[38;5;241m1\u001b[39m)\n",
      "File \u001b[1;32m~\\miniconda3\\envs\\sentinel_env\\lib\\site-packages\\sentinelhub\\download\\handlers.py:46\u001b[0m, in \u001b[0;36mfail_user_errors.<locals>.new_download_func\u001b[1;34m(self, request)\u001b[0m\n\u001b[0;32m     41\u001b[0m \u001b[38;5;28;01mexcept\u001b[39;00m requests\u001b[38;5;241m.\u001b[39mHTTPError \u001b[38;5;28;01mas\u001b[39;00m exception:\n\u001b[0;32m     42\u001b[0m     \u001b[38;5;28;01mif\u001b[39;00m (\n\u001b[0;32m     43\u001b[0m         exception\u001b[38;5;241m.\u001b[39mresponse\u001b[38;5;241m.\u001b[39mstatus_code \u001b[38;5;241m<\u001b[39m requests\u001b[38;5;241m.\u001b[39mstatus_codes\u001b[38;5;241m.\u001b[39mcodes\u001b[38;5;241m.\u001b[39mINTERNAL_SERVER_ERROR\n\u001b[0;32m     44\u001b[0m         \u001b[38;5;129;01mand\u001b[39;00m exception\u001b[38;5;241m.\u001b[39mresponse\u001b[38;5;241m.\u001b[39mstatus_code \u001b[38;5;241m!=\u001b[39m requests\u001b[38;5;241m.\u001b[39mstatus_codes\u001b[38;5;241m.\u001b[39mcodes\u001b[38;5;241m.\u001b[39mTOO_MANY_REQUESTS\n\u001b[0;32m     45\u001b[0m     ):\n\u001b[1;32m---> 46\u001b[0m         \u001b[38;5;28;01mraise\u001b[39;00m DownloadFailedException(\n\u001b[0;32m     47\u001b[0m             _create_download_failed_message(exception, request\u001b[38;5;241m.\u001b[39murl), request_exception\u001b[38;5;241m=\u001b[39mexception\n\u001b[0;32m     48\u001b[0m         ) \u001b[38;5;28;01mfrom\u001b[39;00m \u001b[38;5;21;01mexception\u001b[39;00m\n\u001b[0;32m     49\u001b[0m     \u001b[38;5;28;01mraise\u001b[39;00m exception \u001b[38;5;28;01mfrom\u001b[39;00m \u001b[38;5;21;01mexception\u001b[39;00m\n",
      "\u001b[1;31mDownloadFailedException\u001b[0m: Failed to download from:\nhttps://services.sentinel-hub.com/api/v1/catalog/1.0.0/search\nwith HTTPError:\n400 Client Error: Bad Request for url: https://services.sentinel-hub.com/api/v1/catalog/1.0.0/search\nServer response: \"{\"code\": 400, \"description\": \"One of parameters 'datetime' or 'ids' need to be set.\"}\""
     ]
    }
   ],
   "source": [
    "from util.region import prepare_slo_chunks\n",
    "\n",
    "_, bboxes = prepare_slo_chunks()\n",
    "\n",
    "time_of_interest = (\"2024-04-01\", \"2018-05-01\")\n",
    "\n",
    "ts_list = [get_box_ts(b) for b in bboxes]"
   ]
  },
  {
   "cell_type": "code",
   "execution_count": 7,
   "id": "57b4233f4325740b",
   "metadata": {
    "ExecuteTime": {
     "end_time": "2024-10-29T14:20:09.647513Z",
     "start_time": "2024-10-29T14:20:09.444820Z"
    }
   },
   "outputs": [
    {
     "data": {
      "text/plain": [
       "[datetime.datetime(2024, 9, 29, 0, 0), datetime.datetime(2024, 10, 29, 0, 0)]"
      ]
     },
     "execution_count": 7,
     "metadata": {},
     "output_type": "execute_result"
    }
   ],
   "source": [
    "import util.time as t\n",
    "\n",
    "reload(t)\n",
    "\n",
    "start_date = \"29-10-2024\"\n",
    "\n",
    "t.get_last_month_span(start_date)"
   ]
  },
  {
   "cell_type": "code",
   "execution_count": null,
   "id": "c5fdf96045a5f1bd",
   "metadata": {},
   "outputs": [],
   "source": []
  }
 ],
 "metadata": {
  "kernelspec": {
   "display_name": "Python 3",
   "language": "python",
   "name": "python3"
  },
  "language_info": {
   "codemirror_mode": {
    "name": "ipython",
    "version": 2
   },
   "file_extension": ".py",
   "mimetype": "text/x-python",
   "name": "python",
   "nbconvert_exporter": "python",
   "pygments_lexer": "ipython2",
   "version": "2.7.6"
  }
 },
 "nbformat": 4,
 "nbformat_minor": 5
}
