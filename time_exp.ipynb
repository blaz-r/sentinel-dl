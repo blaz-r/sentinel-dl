{
 "cells": [
  {
   "cell_type": "code",
   "execution_count": 12,
   "id": "initial_id",
   "metadata": {
    "ExecuteTime": {
     "end_time": "2024-10-30T08:48:48.082454Z",
     "start_time": "2024-10-30T08:48:48.068426Z"
    },
    "collapsed": true
   },
   "outputs": [],
   "source": [
    "from IPython.core.pylabtools import figsize\n",
    "from dateutil.relativedelta import relativedelta\n",
    "from dateutil.utils import today\n",
    "from eolearn.core import (\n",
    "    FeatureType,\n",
    "    SaveTask,\n",
    "    linearly_connect_tasks,\n",
    "    EOWorkflow,\n",
    "    EOExecutor,\n",
    "    OutputTask,\n",
    ")\n",
    "from eolearn.io import get_available_timestamps, SentinelHubInputTask\n",
    "from sentinelhub import SHConfig, BBox, CRS, DataCollection\n",
    "import matplotlib.pyplot as plt\n",
    "from eolearn.core import EOPatch\n",
    "import numpy as np\n",
    "import geopandas as gpd\n",
    "from pathlib import Path\n",
    "from importlib import reload\n",
    "from matplotlib import pyplot as plt\n",
    "\n",
    "from util.time import get_last_month_span"
   ]
  },
  {
   "cell_type": "code",
   "execution_count": 13,
   "id": "14fa8ba1bf1d6461",
   "metadata": {
    "ExecuteTime": {
     "end_time": "2024-10-30T08:48:48.774191Z",
     "start_time": "2024-10-30T08:48:48.763937Z"
    }
   },
   "outputs": [],
   "source": [
    "config = SHConfig(profile=\"sentinel-dl\")"
   ]
  },
  {
   "cell_type": "code",
   "execution_count": 14,
   "id": "9df4f150e21168dd",
   "metadata": {
    "ExecuteTime": {
     "end_time": "2024-10-30T08:48:49.284240Z",
     "start_time": "2024-10-30T08:48:49.269093Z"
    }
   },
   "outputs": [],
   "source": [
    "def get_box_ts(bbox, date, maxcc):\n",
    "    interval = get_last_month_span(date)\n",
    "    timestamps = get_available_timestamps(\n",
    "        bbox=bbox,\n",
    "        time_interval=interval,\n",
    "        data_collection=DataCollection.SENTINEL2_L1C,\n",
    "        config=config,\n",
    "        maxcc=maxcc,\n",
    "    )\n",
    "    return timestamps"
   ]
  },
  {
   "cell_type": "code",
   "execution_count": 21,
   "id": "4eaee66f7c2b8423",
   "metadata": {
    "ExecuteTime": {
     "end_time": "2024-10-30T08:54:34.080587Z",
     "start_time": "2024-10-30T08:54:33.566158Z"
    }
   },
   "outputs": [
    {
     "name": "stdout",
     "output_type": "stream",
     "text": [
      "Setting chunk sizes to 5120x5120 m^2.\n"
     ]
    },
    {
     "data": {
      "text/plain": [
       "[datetime.datetime(2024, 10, 11, 10, 7, 50),\n",
       " datetime.datetime(2024, 10, 21, 10, 7, 52)]"
      ]
     },
     "execution_count": 21,
     "metadata": {},
     "output_type": "execute_result"
    }
   ],
   "source": [
    "from util.region import prepare_slo_chunks\n",
    "\n",
    "_, bboxes = prepare_slo_chunks()\n",
    "\n",
    "time_of_interest = \"30-10-2024\"\n",
    "\n",
    "get_box_ts(bboxes[268], time_of_interest, 0.5)"
   ]
  },
  {
   "cell_type": "code",
   "execution_count": 16,
   "id": "57b4233f4325740b",
   "metadata": {
    "ExecuteTime": {
     "end_time": "2024-10-30T08:49:12.154031Z",
     "start_time": "2024-10-30T08:49:12.132805Z"
    }
   },
   "outputs": [
    {
     "data": {
      "text/plain": [
       "[datetime.datetime(2024, 9, 30, 0, 0), datetime.datetime(2024, 10, 30, 0, 0)]"
      ]
     },
     "execution_count": 16,
     "metadata": {},
     "output_type": "execute_result"
    }
   ],
   "source": [
    "import util.time as t\n",
    "\n",
    "reload(t)\n",
    "\n",
    "\n",
    "t.get_last_month_span(time_of_interest)"
   ]
  },
  {
   "cell_type": "code",
   "execution_count": null,
   "id": "c5fdf96045a5f1bd",
   "metadata": {},
   "outputs": [],
   "source": []
  }
 ],
 "metadata": {
  "kernelspec": {
   "display_name": "Python 3",
   "language": "python",
   "name": "python3"
  },
  "language_info": {
   "codemirror_mode": {
    "name": "ipython",
    "version": 2
   },
   "file_extension": ".py",
   "mimetype": "text/x-python",
   "name": "python",
   "nbconvert_exporter": "python",
   "pygments_lexer": "ipython2",
   "version": "2.7.6"
  }
 },
 "nbformat": 4,
 "nbformat_minor": 5
}
