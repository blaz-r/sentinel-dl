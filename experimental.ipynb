{
 "cells": [
  {
   "cell_type": "code",
   "id": "initial_id",
   "metadata": {
    "collapsed": true,
    "ExecuteTime": {
     "end_time": "2024-10-27T16:22:22.839922Z",
     "start_time": "2024-10-27T16:22:21.477702Z"
    }
   },
   "source": [
    "from dateutil.relativedelta import relativedelta\n",
    "from dateutil.utils import today\n",
    "from eolearn.core import (\n",
    "    FeatureType,\n",
    "    SaveTask,\n",
    "    linearly_connect_tasks,\n",
    "    EOWorkflow,\n",
    "    EOExecutor,\n",
    ")\n",
    "from eolearn.io import get_available_timestamps, SentinelHubInputTask\n",
    "from sentinelhub import SHConfig, BBox, CRS, DataCollection"
   ],
   "outputs": [],
   "execution_count": 1
  },
  {
   "cell_type": "code",
   "id": "e933794fe1fb871b",
   "metadata": {
    "ExecuteTime": {
     "end_time": "2024-10-27T16:22:22.855707Z",
     "start_time": "2024-10-27T16:22:22.841154Z"
    }
   },
   "source": [
    "config = SHConfig(profile=\"sentinel-dl\")"
   ],
   "outputs": [],
   "execution_count": 2
  },
  {
   "cell_type": "code",
   "id": "2c269af2f03fe0c6",
   "metadata": {
    "ExecuteTime": {
     "end_time": "2024-10-27T16:22:30.297706Z",
     "start_time": "2024-10-27T16:22:30.280880Z"
    }
   },
   "source": [
    "roi_bbox = BBox(bbox=(5.60, 52.68, 5.75, 52.63), crs=CRS.WGS84)"
   ],
   "outputs": [],
   "execution_count": 3
  },
  {
   "cell_type": "code",
   "id": "9ddd872037b54158",
   "metadata": {
    "ExecuteTime": {
     "end_time": "2024-10-27T16:22:30.671166Z",
     "start_time": "2024-10-27T16:22:30.665167Z"
    }
   },
   "source": [
    "def get_last_two_timestamps(data_collection):\n",
    "    today_ts = today()\n",
    "    two_months_ago_ts = today_ts - relativedelta(months=2)\n",
    "    time_of_interest = (two_months_ago_ts, today_ts)\n",
    "\n",
    "    timestamps = get_available_timestamps(\n",
    "        bbox=roi_bbox,\n",
    "        time_interval=time_of_interest,\n",
    "        data_collection=data_collection,\n",
    "        config=config,\n",
    "    )\n",
    "    return timestamps[-2:]"
   ],
   "outputs": [],
   "execution_count": 4
  },
  {
   "cell_type": "code",
   "id": "c37427030a7a8253",
   "metadata": {
    "ExecuteTime": {
     "end_time": "2024-10-27T16:22:32.396957Z",
     "start_time": "2024-10-27T16:22:31.062934Z"
    }
   },
   "source": [
    "# max cloud cover\n",
    "maxcc = 0.8\n",
    "\n",
    "# meters\n",
    "resolution = 20\n",
    "\n",
    "data_collection = DataCollection.SENTINEL2_L1C\n",
    "\n",
    "time_interval = get_last_two_timestamps(data_collection)\n",
    "\n",
    "input_task = SentinelHubInputTask(\n",
    "    data_collection=data_collection,\n",
    "    # bands=[\"B01\", \"B02\", \"B03\", \"B04\", \"B05\", \"B06\", \"B07\", \"B08\", \"B8A\", \"B09\", \"B10\", \"B11\", \"B12\"] # if not passed, it will download all\n",
    "    bands_feature=(FeatureType.DATA, \"L1C_data\"),\n",
    "    additional_data=[(FeatureType.MASK, \"dataMask\")],  # cloud mask\n",
    "    maxcc=maxcc,\n",
    "    resolution=resolution,\n",
    "    config=config,  # important since we are using sentinel-dl, alternatively save ID and secret to default profile\n",
    ")"
   ],
   "outputs": [],
   "execution_count": 5
  },
  {
   "cell_type": "markdown",
   "id": "4fc744201a7ac087",
   "metadata": {},
   "source": "besides L1C we can also get L2A, SCL, NDWI... Refer to this guide: https://github.com/sentinel-hub/eo-learn/blob/master/examples/io/SentinelHubIO.ipynb"
  },
  {
   "cell_type": "code",
   "id": "2b874d95214804be",
   "metadata": {
    "ExecuteTime": {
     "end_time": "2024-10-27T16:22:32.412411Z",
     "start_time": "2024-10-27T16:22:32.397895Z"
    }
   },
   "source": [
    "save = SaveTask(\"eopatch_fd\")"
   ],
   "outputs": [],
   "execution_count": 6
  },
  {
   "cell_type": "code",
   "id": "35f02947402e378e",
   "metadata": {
    "ExecuteTime": {
     "end_time": "2024-10-27T16:22:32.567806Z",
     "start_time": "2024-10-27T16:22:32.559291Z"
    }
   },
   "source": [
    "workflow_nodes = linearly_connect_tasks(input_task, save)\n",
    "workflow = EOWorkflow(workflow_nodes)\n",
    "# workflow.dependency_graph() additionally install graphviz and eo-learn[VISUALIZATION]"
   ],
   "outputs": [],
   "execution_count": 7
  },
  {
   "cell_type": "code",
   "id": "8da8b3adbe1abeaf",
   "metadata": {
    "ExecuteTime": {
     "end_time": "2024-10-27T16:22:33.615130Z",
     "start_time": "2024-10-27T16:22:33.596053Z"
    }
   },
   "source": [
    "# take nodes, these are not the same as tasks!!!\n",
    "input_node = workflow_nodes[0]\n",
    "save_node = workflow_nodes[-1]\n",
    "\n",
    "execution_args = [\n",
    "    {\n",
    "        input_node: {\"bbox\": roi_bbox, \"time_interval\": time_interval},\n",
    "        save_node: {\"eopatch_folder\": \"eopatch_file\"},\n",
    "    }\n",
    "]\n",
    "\n",
    "executor = EOExecutor(workflow, execution_args)"
   ],
   "outputs": [],
   "execution_count": 8
  },
  {
   "cell_type": "code",
   "id": "399c165c5bab335",
   "metadata": {
    "ExecuteTime": {
     "end_time": "2024-10-27T16:26:22.462383Z",
     "start_time": "2024-10-27T16:26:16.210815Z"
    }
   },
   "source": [
    "executor.run(workers=4)\n",
    "\n",
    "executor.make_report()\n",
    "\n",
    "failed_ids = executor.get_failed_executions()\n",
    "if failed_ids:\n",
    "    raise RuntimeError(\n",
    "        f\"Execution failed EOPatches with IDs:\\n{failed_ids}\\n\"\n",
    "        f\"For more info check report at {executor.get_report_path()}\"\n",
    "    )"
   ],
   "outputs": [
    {
     "data": {
      "text/plain": [
       "  0%|          | 0/1 [00:00<?, ?it/s]"
      ],
      "application/vnd.jupyter.widget-view+json": {
       "version_major": 2,
       "version_minor": 0,
       "model_id": "3844316b84ec4d83952a0cb24ce07c87"
      }
     },
     "metadata": {},
     "output_type": "display_data"
    },
    {
     "name": "stderr",
     "output_type": "stream",
     "text": [
      "C:\\Users\\blazr\\miniconda3\\envs\\sentinel_env\\lib\\site-packages\\eolearn\\visualization\\eoexecutor.py:62: EOUserWarning: failed to execute WindowsPath('dot'), make sure the Graphviz executables are on your systems' PATH.\n",
      "Please install the system package 'graphviz' (in addition to the python package) to have the dependency graph in the final report!\n",
      "  warnings.warn(\n"
     ]
    }
   ],
   "execution_count": 11
  },
  {
   "cell_type": "code",
   "execution_count": null,
   "id": "9e6683ae82b4aec6",
   "metadata": {},
   "outputs": [],
   "source": []
  }
 ],
 "metadata": {
  "kernelspec": {
   "display_name": "Python 3",
   "language": "python",
   "name": "python3"
  },
  "language_info": {
   "codemirror_mode": {
    "name": "ipython",
    "version": 2
   },
   "file_extension": ".py",
   "mimetype": "text/x-python",
   "name": "python",
   "nbconvert_exporter": "python",
   "pygments_lexer": "ipython2",
   "version": "2.7.6"
  }
 },
 "nbformat": 4,
 "nbformat_minor": 5
}
