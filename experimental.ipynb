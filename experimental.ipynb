{
 "cells": [
  {
   "cell_type": "code",
   "id": "initial_id",
   "metadata": {
    "collapsed": true,
    "ExecuteTime": {
     "end_time": "2024-10-28T14:03:22.597847Z",
     "start_time": "2024-10-28T14:03:21.614124Z"
    }
   },
   "source": [
    "%load_ext autoreload\n",
    "%autoreload 2\n",
    "\n",
    "from dateutil.relativedelta import relativedelta\n",
    "from dateutil.utils import today\n",
    "from eolearn.core import (\n",
    "    FeatureType,\n",
    "    SaveTask,\n",
    "    linearly_connect_tasks,\n",
    "    EOWorkflow,\n",
    "    EOExecutor, OutputTask,\n",
    ")\n",
    "from eolearn.io import get_available_timestamps, SentinelHubInputTask\n",
    "from sentinelhub import SHConfig, BBox, CRS, DataCollection"
   ],
   "outputs": [
    {
     "name": "stdout",
     "output_type": "stream",
     "text": [
      "The autoreload extension is already loaded. To reload it, use:\n",
      "  %reload_ext autoreload\n"
     ]
    }
   ],
   "execution_count": 9
  },
  {
   "cell_type": "code",
   "id": "e933794fe1fb871b",
   "metadata": {
    "ExecuteTime": {
     "end_time": "2024-10-28T14:03:22.910460Z",
     "start_time": "2024-10-28T14:03:22.704535Z"
    }
   },
   "source": [
    "config = SHConfig(profile=\"sentinel-dl\")"
   ],
   "outputs": [],
   "execution_count": 10
  },
  {
   "cell_type": "code",
   "id": "2c269af2f03fe0c6",
   "metadata": {
    "ExecuteTime": {
     "end_time": "2024-10-28T14:03:23.127770Z",
     "start_time": "2024-10-28T14:03:22.945615Z"
    }
   },
   "source": [
    "roi_bbox = BBox(bbox=(5.60, 52.68, 5.75, 52.63), crs=CRS.WGS84)"
   ],
   "outputs": [],
   "execution_count": 11
  },
  {
   "cell_type": "code",
   "id": "9ddd872037b54158",
   "metadata": {
    "ExecuteTime": {
     "end_time": "2024-10-28T14:03:23.324366Z",
     "start_time": "2024-10-28T14:03:23.164947Z"
    }
   },
   "source": [
    "def get_last_two_timestamps(data_collection):\n",
    "    today_ts = today()\n",
    "    two_months_ago_ts = today_ts - relativedelta(months=2)\n",
    "    time_of_interest = (two_months_ago_ts, today_ts)\n",
    "\n",
    "    timestamps = get_available_timestamps(\n",
    "        bbox=roi_bbox,\n",
    "        time_interval=time_of_interest,\n",
    "        data_collection=data_collection,\n",
    "        config=config,\n",
    "    )\n",
    "    return timestamps[-2:]"
   ],
   "outputs": [],
   "execution_count": 12
  },
  {
   "cell_type": "code",
   "id": "c37427030a7a8253",
   "metadata": {
    "ExecuteTime": {
     "end_time": "2024-10-28T14:03:24.330181Z",
     "start_time": "2024-10-28T14:03:23.343867Z"
    }
   },
   "source": [
    "# max cloud cover\n",
    "maxcc = 0.8\n",
    "\n",
    "# meters\n",
    "resolution = 20\n",
    "\n",
    "data_collection = DataCollection.SENTINEL2_L1C\n",
    "\n",
    "time_interval = get_last_two_timestamps(data_collection)\n",
    "\n",
    "input_task = SentinelHubInputTask(\n",
    "    data_collection=data_collection,\n",
    "    # bands=[\"B01\", \"B02\", \"B03\", \"B04\", \"B05\", \"B06\", \"B07\", \"B08\", \"B8A\", \"B09\", \"B10\", \"B11\", \"B12\"] # if not passed, it will download all\n",
    "    bands_feature=(FeatureType.DATA, \"L1C_data\"),\n",
    "    additional_data=[(FeatureType.MASK, \"dataMask\")],  # cloud mask\n",
    "    maxcc=maxcc,\n",
    "    resolution=resolution,\n",
    "    config=config,  # important since we are using sentinel-dl, alternatively save ID and secret to default profile\n",
    ")"
   ],
   "outputs": [],
   "execution_count": 13
  },
  {
   "cell_type": "markdown",
   "id": "4fc744201a7ac087",
   "metadata": {},
   "source": "besides L1C we can also get L2A, SCL, NDWI... Refer to this guide: https://github.com/sentinel-hub/eo-learn/blob/master/examples/io/SentinelHubIO.ipynb"
  },
  {
   "cell_type": "code",
   "id": "2b874d95214804be",
   "metadata": {
    "ExecuteTime": {
     "end_time": "2024-10-28T14:03:27.090783Z",
     "start_time": "2024-10-28T14:03:26.955942Z"
    }
   },
   "source": [
    "save = SaveTask(\"eopatch_fd\")\n",
    "output_task = OutputTask(\"eopatch\")"
   ],
   "outputs": [],
   "execution_count": 14
  },
  {
   "cell_type": "code",
   "id": "35f02947402e378e",
   "metadata": {
    "ExecuteTime": {
     "end_time": "2024-10-28T14:03:40.192386Z",
     "start_time": "2024-10-28T14:03:40.033327Z"
    }
   },
   "source": [
    "workflow_nodes = linearly_connect_tasks(input_task, save, output_task)\n",
    "workflow = EOWorkflow(workflow_nodes)\n",
    "# workflow.dependency_graph() additionally install graphviz and eo-learn[VISUALIZATION]"
   ],
   "outputs": [],
   "execution_count": 15
  },
  {
   "cell_type": "code",
   "id": "8da8b3adbe1abeaf",
   "metadata": {
    "ExecuteTime": {
     "end_time": "2024-10-28T14:03:41.014888Z",
     "start_time": "2024-10-28T14:03:40.659687Z"
    }
   },
   "source": [
    "# take nodes, these are not the same as tasks!!!\n",
    "input_node = workflow_nodes[0]\n",
    "save_node = workflow_nodes[-2]\n",
    "\n",
    "execution_args = [\n",
    "    {\n",
    "        input_node: {\"bbox\": roi_bbox, \"time_interval\": time_interval},\n",
    "        save_node: {\"eopatch_folder\": \"eopatch_file\"},\n",
    "    }\n",
    "]\n",
    "\n",
    "executor = EOExecutor(workflow, execution_args)"
   ],
   "outputs": [],
   "execution_count": 16
  },
  {
   "cell_type": "code",
   "id": "399c165c5bab335",
   "metadata": {
    "ExecuteTime": {
     "end_time": "2024-10-28T14:04:36.325784Z",
     "start_time": "2024-10-28T14:04:28.858090Z"
    }
   },
   "source": [
    "res = executor.run(workers=4)\n",
    "\n",
    "executor.make_report()\n",
    "\n",
    "failed_ids = executor.get_failed_executions()\n",
    "if failed_ids:\n",
    "    raise RuntimeError(\n",
    "        f\"Execution failed EOPatches with IDs:\\n{failed_ids}\\n\"\n",
    "        f\"For more info check report at {executor.get_report_path()}\"\n",
    "    )"
   ],
   "outputs": [
    {
     "name": "stderr",
     "output_type": "stream",
     "text": [
      "100%|██████████| 1/1 [00:06<00:00,  6.50s/it]\n",
      "C:\\Users\\blazr\\miniconda3\\envs\\sentinel_env\\lib\\site-packages\\eolearn\\visualization\\eoexecutor.py:62: EOUserWarning: failed to execute WindowsPath('dot'), make sure the Graphviz executables are on your systems' PATH.\n",
      "Please install the system package 'graphviz' (in addition to the python package) to have the dependency graph in the final report!\n",
      "  warnings.warn(\n"
     ]
    }
   ],
   "execution_count": 18
  },
  {
   "metadata": {
    "ExecuteTime": {
     "end_time": "2024-10-28T14:05:08.465860Z",
     "start_time": "2024-10-28T14:05:08.309029Z"
    }
   },
   "cell_type": "code",
   "source": "res[0].outputs",
   "id": "52cc7efa2566ae59",
   "outputs": [
    {
     "data": {
      "text/plain": [
       "{'eopatch': EOPatch(\n",
       "   bbox=BBox(((5.6, 52.63), (5.75, 52.68)), crs=CRS('4326'))\n",
       "   timestamps=[datetime.datetime(2024, 10, 26, 10, 56, 23)]\n",
       "   data={\n",
       "     L1C_data: numpy.ndarray(shape=(1, 297, 497, 13), dtype=float32)\n",
       "   }\n",
       "   mask={\n",
       "     dataMask: numpy.ndarray(shape=(1, 297, 497, 1), dtype=bool)\n",
       "   }\n",
       " )}"
      ]
     },
     "execution_count": 21,
     "metadata": {},
     "output_type": "execute_result"
    }
   ],
   "execution_count": 21
  },
  {
   "metadata": {
    "ExecuteTime": {
     "end_time": "2024-10-28T14:08:40.834353Z",
     "start_time": "2024-10-28T14:08:40.662473Z"
    }
   },
   "cell_type": "code",
   "source": [
    "import geopandas as gpd\n",
    "from pathlib import Path\n",
    "from importlib import reload\n",
    "\n",
    "Path(\"data/svn_border.geojson\").exists()"
   ],
   "id": "bc7c9f2435ac4800",
   "outputs": [
    {
     "data": {
      "text/plain": [
       "True"
      ]
     },
     "execution_count": 26,
     "metadata": {},
     "output_type": "execute_result"
    }
   ],
   "execution_count": 26
  },
  {
   "metadata": {
    "ExecuteTime": {
     "end_time": "2024-10-28T14:20:22.077382Z",
     "start_time": "2024-10-28T14:20:21.590566Z"
    }
   },
   "cell_type": "code",
   "source": [
    "from matplotlib import pyplot as plt\n",
    "import util.region_tools as rt\n",
    "reload(rt)\n",
    "slo = rt.prepare_slo_shape()\n",
    "\n",
    "country_shape = slo.geometry.values[0]\n",
    "\n",
    "plt.axis(\"off\")\n",
    "country_width = country_shape.bounds[2] - country_shape.bounds[0]\n",
    "country_height = country_shape.bounds[3] - country_shape.bounds[1]\n",
    "print(f\"Dimension of the area is {country_width:.0f} x {country_height:.0f} m2\")\n",
    "slo.plot()\n",
    "plt.savefig(\"tst.png\")"
   ],
   "id": "f5d572cc527f59e6",
   "outputs": [
    {
     "name": "stdout",
     "output_type": "stream",
     "text": [
      "Dimension of the area is 243208 x 161608 m2\n"
     ]
    }
   ],
   "execution_count": 41
  },
  {
   "metadata": {
    "ExecuteTime": {
     "end_time": "2024-10-28T14:29:50.740798Z",
     "start_time": "2024-10-28T14:29:47.169954Z"
    }
   },
   "cell_type": "code",
   "source": [
    "reload(rt)\n",
    "chunks = rt.prepare_slo_chunks()\n",
    "chunks"
   ],
   "id": "24229808c630f729",
   "outputs": [
    {
     "data": {
      "text/plain": [
       "     index  index_x  index_y  \\\n",
       "0        0        0       19   \n",
       "1        1        1       17   \n",
       "2        2        1       18   \n",
       "3        3        1       19   \n",
       "4        4        1       20   \n",
       "..     ...      ...      ...   \n",
       "895    895       47       25   \n",
       "896    896       47       26   \n",
       "897    897       48       23   \n",
       "898    898       48       24   \n",
       "899    899       48       25   \n",
       "\n",
       "                                              geometry  \n",
       "0    POLYGON ((368640.000 5125120.000, 368640.000 5...  \n",
       "1    POLYGON ((373760.000 5114880.000, 373760.000 5...  \n",
       "2    POLYGON ((373760.000 5120000.000, 373760.000 5...  \n",
       "3    POLYGON ((373760.000 5125120.000, 373760.000 5...  \n",
       "4    POLYGON ((373760.000 5130240.000, 373760.000 5...  \n",
       "..                                                 ...  \n",
       "895  POLYGON ((609280.000 5155840.000, 609280.000 5...  \n",
       "896  POLYGON ((609280.000 5160960.000, 609280.000 5...  \n",
       "897  POLYGON ((614400.000 5145600.000, 614400.000 5...  \n",
       "898  POLYGON ((614400.000 5150720.000, 614400.000 5...  \n",
       "899  POLYGON ((614400.000 5155840.000, 614400.000 5...  \n",
       "\n",
       "[900 rows x 4 columns]"
      ],
      "text/html": [
       "<div>\n",
       "<style scoped>\n",
       "    .dataframe tbody tr th:only-of-type {\n",
       "        vertical-align: middle;\n",
       "    }\n",
       "\n",
       "    .dataframe tbody tr th {\n",
       "        vertical-align: top;\n",
       "    }\n",
       "\n",
       "    .dataframe thead th {\n",
       "        text-align: right;\n",
       "    }\n",
       "</style>\n",
       "<table border=\"1\" class=\"dataframe\">\n",
       "  <thead>\n",
       "    <tr style=\"text-align: right;\">\n",
       "      <th></th>\n",
       "      <th>index</th>\n",
       "      <th>index_x</th>\n",
       "      <th>index_y</th>\n",
       "      <th>geometry</th>\n",
       "    </tr>\n",
       "  </thead>\n",
       "  <tbody>\n",
       "    <tr>\n",
       "      <th>0</th>\n",
       "      <td>0</td>\n",
       "      <td>0</td>\n",
       "      <td>19</td>\n",
       "      <td>POLYGON ((368640.000 5125120.000, 368640.000 5...</td>\n",
       "    </tr>\n",
       "    <tr>\n",
       "      <th>1</th>\n",
       "      <td>1</td>\n",
       "      <td>1</td>\n",
       "      <td>17</td>\n",
       "      <td>POLYGON ((373760.000 5114880.000, 373760.000 5...</td>\n",
       "    </tr>\n",
       "    <tr>\n",
       "      <th>2</th>\n",
       "      <td>2</td>\n",
       "      <td>1</td>\n",
       "      <td>18</td>\n",
       "      <td>POLYGON ((373760.000 5120000.000, 373760.000 5...</td>\n",
       "    </tr>\n",
       "    <tr>\n",
       "      <th>3</th>\n",
       "      <td>3</td>\n",
       "      <td>1</td>\n",
       "      <td>19</td>\n",
       "      <td>POLYGON ((373760.000 5125120.000, 373760.000 5...</td>\n",
       "    </tr>\n",
       "    <tr>\n",
       "      <th>4</th>\n",
       "      <td>4</td>\n",
       "      <td>1</td>\n",
       "      <td>20</td>\n",
       "      <td>POLYGON ((373760.000 5130240.000, 373760.000 5...</td>\n",
       "    </tr>\n",
       "    <tr>\n",
       "      <th>...</th>\n",
       "      <td>...</td>\n",
       "      <td>...</td>\n",
       "      <td>...</td>\n",
       "      <td>...</td>\n",
       "    </tr>\n",
       "    <tr>\n",
       "      <th>895</th>\n",
       "      <td>895</td>\n",
       "      <td>47</td>\n",
       "      <td>25</td>\n",
       "      <td>POLYGON ((609280.000 5155840.000, 609280.000 5...</td>\n",
       "    </tr>\n",
       "    <tr>\n",
       "      <th>896</th>\n",
       "      <td>896</td>\n",
       "      <td>47</td>\n",
       "      <td>26</td>\n",
       "      <td>POLYGON ((609280.000 5160960.000, 609280.000 5...</td>\n",
       "    </tr>\n",
       "    <tr>\n",
       "      <th>897</th>\n",
       "      <td>897</td>\n",
       "      <td>48</td>\n",
       "      <td>23</td>\n",
       "      <td>POLYGON ((614400.000 5145600.000, 614400.000 5...</td>\n",
       "    </tr>\n",
       "    <tr>\n",
       "      <th>898</th>\n",
       "      <td>898</td>\n",
       "      <td>48</td>\n",
       "      <td>24</td>\n",
       "      <td>POLYGON ((614400.000 5150720.000, 614400.000 5...</td>\n",
       "    </tr>\n",
       "    <tr>\n",
       "      <th>899</th>\n",
       "      <td>899</td>\n",
       "      <td>48</td>\n",
       "      <td>25</td>\n",
       "      <td>POLYGON ((614400.000 5155840.000, 614400.000 5...</td>\n",
       "    </tr>\n",
       "  </tbody>\n",
       "</table>\n",
       "<p>900 rows × 4 columns</p>\n",
       "</div>"
      ]
     },
     "execution_count": 47,
     "metadata": {},
     "output_type": "execute_result"
    }
   ],
   "execution_count": 47
  },
  {
   "metadata": {
    "ExecuteTime": {
     "end_time": "2024-10-28T14:31:18.995090Z",
     "start_time": "2024-10-28T14:31:18.744393Z"
    }
   },
   "cell_type": "code",
   "source": "chunks.crs",
   "id": "f7e94d5561544d9d",
   "outputs": [
    {
     "data": {
      "text/plain": [
       "<Projected CRS: EPSG:32633>\n",
       "Name: WGS 84 / UTM zone 33N\n",
       "Axis Info [cartesian]:\n",
       "- E[east]: Easting (metre)\n",
       "- N[north]: Northing (metre)\n",
       "Area of Use:\n",
       "- name: Between 12°E and 18°E, northern hemisphere between equator and 84°N, onshore and offshore. Austria. Bosnia and Herzegovina. Cameroon. Central African Republic. Chad. Congo. Croatia. Czechia. Democratic Republic of the Congo (Zaire). Gabon. Germany. Hungary. Italy. Libya. Malta. Niger. Nigeria. Norway. Poland. San Marino. Slovakia. Slovenia. Svalbard. Sweden. Vatican City State.\n",
       "- bounds: (12.0, 0.0, 18.0, 84.0)\n",
       "Coordinate Operation:\n",
       "- name: UTM zone 33N\n",
       "- method: Transverse Mercator\n",
       "Datum: World Geodetic System 1984 ensemble\n",
       "- Ellipsoid: WGS 84\n",
       "- Prime Meridian: Greenwich"
      ]
     },
     "execution_count": 48,
     "metadata": {},
     "output_type": "execute_result"
    }
   ],
   "execution_count": 48
  },
  {
   "metadata": {
    "ExecuteTime": {
     "end_time": "2024-10-28T14:36:17.329566Z",
     "start_time": "2024-10-28T14:36:17.153998Z"
    }
   },
   "cell_type": "code",
   "source": [
    "i_0, row_0 = (next(chunks.iterrows()))\n",
    "row_0[\"geometry\"]"
   ],
   "id": "f36a165e630e6651",
   "outputs": [
    {
     "data": {
      "text/plain": [
       "<POLYGON ((368640 5125120, 368640 5130240, 373760 5130240, 373760 5125120, 3...>"
      ],
      "image/svg+xml": "<svg xmlns=\"http://www.w3.org/2000/svg\" xmlns:xlink=\"http://www.w3.org/1999/xlink\" width=\"300\" height=\"300\" viewBox=\"368435.2 5124915.2 5529.599999999977 5529.5999999996275\" preserveAspectRatio=\"xMinYMin meet\"><g transform=\"matrix(1,0,0,-1,0,10255360.0)\"><path fill-rule=\"evenodd\" fill=\"#66cc99\" stroke=\"#555555\" stroke-width=\"36.86399999999985\" opacity=\"0.6\" d=\"M 368640.0,5125120.0 L 368640.0,5130240.0 L 373760.0,5130240.0 L 373760.0,5125120.0 L 368640.0,5125120.0 z\" /></g></svg>"
     },
     "execution_count": 64,
     "metadata": {},
     "output_type": "execute_result"
    }
   ],
   "execution_count": 64
  },
  {
   "metadata": {
    "ExecuteTime": {
     "end_time": "2024-10-28T14:41:38.304415Z",
     "start_time": "2024-10-28T14:41:34.551604Z"
    }
   },
   "cell_type": "code",
   "source": [
    "fig, ax = plt.subplots(figsize=(30, 30))\n",
    "ax.set_title(\"Selected 5x5 tiles from Slovenia\", fontsize=25)\n",
    "slo.plot(ax=ax, facecolor=\"w\", edgecolor=\"b\", alpha=0.5)\n",
    "chunks.plot(ax=ax, facecolor=\"w\", edgecolor=\"r\", alpha=0.5)\n",
    "\n",
    "for i, row in chunks.iterrows():\n",
    "    geo = row[\"geometry\"]\n",
    "    ax.text(geo.centroid.x, geo.centroid.y, row[\"index\"], ha=\"center\", va=\"center\")\n",
    "\n",
    "plt.axis(\"off\")\n",
    "plt.savefig(\"box.png\")"
   ],
   "id": "2f2913d6ef8ebacf",
   "outputs": [],
   "execution_count": 66
  },
  {
   "metadata": {},
   "cell_type": "code",
   "outputs": [],
   "execution_count": null,
   "source": "",
   "id": "eeaf3dc87cfaf1c8"
  }
 ],
 "metadata": {
  "kernelspec": {
   "display_name": "Python 3",
   "language": "python",
   "name": "python3"
  },
  "language_info": {
   "codemirror_mode": {
    "name": "ipython",
    "version": 2
   },
   "file_extension": ".py",
   "mimetype": "text/x-python",
   "name": "python",
   "nbconvert_exporter": "python",
   "pygments_lexer": "ipython2",
   "version": "2.7.6"
  }
 },
 "nbformat": 4,
 "nbformat_minor": 5
}
