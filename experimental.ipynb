{
 "cells": [
  {
   "cell_type": "code",
   "execution_count": 1,
   "id": "initial_id",
   "metadata": {
    "ExecuteTime": {
     "end_time": "2024-10-29T14:20:51.860739Z",
     "start_time": "2024-10-29T14:20:46.811567Z"
    },
    "collapsed": true
   },
   "outputs": [
    {
     "name": "stderr",
     "output_type": "stream",
     "text": [
      "C:\\Users\\blazr\\miniconda3\\envs\\sentinel_env\\lib\\site-packages\\tqdm\\auto.py:21: TqdmWarning: IProgress not found. Please update jupyter and ipywidgets. See https://ipywidgets.readthedocs.io/en/stable/user_install.html\n",
      "  from .autonotebook import tqdm as notebook_tqdm\n"
     ]
    }
   ],
   "source": [
    "from dateutil.relativedelta import relativedelta\n",
    "from dateutil.utils import today\n",
    "from eolearn.core import (\n",
    "    FeatureType,\n",
    "    SaveTask,\n",
    "    linearly_connect_tasks,\n",
    "    EOWorkflow,\n",
    "    EOExecutor,\n",
    "    OutputTask,\n",
    ")\n",
    "from eolearn.io import get_available_timestamps, SentinelHubInputTask\n",
    "from sentinelhub import SHConfig, BBox, CRS, DataCollection\n",
    "import matplotlib.pyplot as plt\n",
    "from eolearn.core import EOPatch\n",
    "import numpy as np\n",
    "import geopandas as gpd\n",
    "from pathlib import Path\n",
    "from importlib import reload\n",
    "from matplotlib import pyplot as plt"
   ]
  },
  {
   "cell_type": "code",
   "execution_count": 82,
   "id": "e933794fe1fb871b",
   "metadata": {
    "ExecuteTime": {
     "end_time": "2024-10-29T13:58:56.900031Z",
     "start_time": "2024-10-29T13:58:56.686216Z"
    }
   },
   "outputs": [],
   "source": [
    "config = SHConfig(profile=\"sentinel-dl\")"
   ]
  },
  {
   "cell_type": "code",
   "execution_count": 83,
   "id": "2c269af2f03fe0c6",
   "metadata": {
    "ExecuteTime": {
     "end_time": "2024-10-29T13:58:57.104290Z",
     "start_time": "2024-10-29T13:58:56.921285Z"
    }
   },
   "outputs": [],
   "source": [
    "roi_bbox = BBox(bbox=(5.60, 52.68, 5.75, 52.63), crs=CRS.WGS84)"
   ]
  },
  {
   "cell_type": "code",
   "execution_count": 78,
   "id": "9ddd872037b54158",
   "metadata": {
    "ExecuteTime": {
     "end_time": "2024-10-29T10:19:54.092174Z",
     "start_time": "2024-10-29T10:19:53.948182Z"
    }
   },
   "outputs": [],
   "source": [
    "def get_last_two_timestamps(data_collection):\n",
    "    today_ts = today()\n",
    "    two_months_ago_ts = today_ts - relativedelta(months=2)\n",
    "    time_of_interest = (two_months_ago_ts, today_ts)\n",
    "\n",
    "    timestamps = get_available_timestamps(\n",
    "        bbox=roi_bbox,\n",
    "        time_interval=time_of_interest,\n",
    "        data_collection=data_collection,\n",
    "        config=config,\n",
    "    )\n",
    "    return timestamps[-2:]"
   ]
  },
  {
   "cell_type": "code",
   "execution_count": 5,
   "id": "c37427030a7a8253",
   "metadata": {
    "ExecuteTime": {
     "end_time": "2024-10-28T17:07:17.065610Z",
     "start_time": "2024-10-28T17:07:16.693496Z"
    }
   },
   "outputs": [],
   "source": [
    "# max cloud cover\n",
    "maxcc = 0.8\n",
    "\n",
    "# meters\n",
    "resolution = 20\n",
    "\n",
    "data_collection = DataCollection.SENTINEL2_L1C\n",
    "\n",
    "time_interval = get_last_two_timestamps(data_collection)\n",
    "\n",
    "input_task = SentinelHubInputTask(\n",
    "    data_collection=data_collection,\n",
    "    # bands=[\"B01\", \"B02\", \"B03\", \"B04\", \"B05\", \"B06\", \"B07\", \"B08\", \"B8A\", \"B09\", \"B10\", \"B11\", \"B12\"] # if not passed, it will download all\n",
    "    bands_feature=(FeatureType.DATA, \"L1C_data\"),\n",
    "    additional_data=[(FeatureType.MASK, \"dataMask\")],  # cloud mask\n",
    "    maxcc=maxcc,\n",
    "    resolution=resolution,\n",
    "    config=config,  # important since we are using sentinel-dl, alternatively save ID and secret to default profile\n",
    ")"
   ]
  },
  {
   "cell_type": "markdown",
   "id": "4fc744201a7ac087",
   "metadata": {},
   "source": "besides L1C we can also get L2A, SCL, NDWI... Refer to this guide: https://github.com/sentinel-hub/eo-learn/blob/master/examples/io/SentinelHubIO.ipynb"
  },
  {
   "cell_type": "code",
   "execution_count": 6,
   "id": "2b874d95214804be",
   "metadata": {
    "ExecuteTime": {
     "end_time": "2024-10-28T17:07:17.081079Z",
     "start_time": "2024-10-28T17:07:17.066568Z"
    }
   },
   "outputs": [],
   "source": [
    "save = SaveTask(\"eopatch_fd\")\n",
    "output_task = OutputTask(\"eopatch\")"
   ]
  },
  {
   "cell_type": "code",
   "execution_count": 7,
   "id": "35f02947402e378e",
   "metadata": {
    "ExecuteTime": {
     "end_time": "2024-10-28T17:07:17.096172Z",
     "start_time": "2024-10-28T17:07:17.082093Z"
    }
   },
   "outputs": [],
   "source": [
    "workflow_nodes = linearly_connect_tasks(input_task, save, output_task)\n",
    "workflow = EOWorkflow(workflow_nodes)\n",
    "# workflow.dependency_graph() additionally install graphviz and eo-learn[VISUALIZATION]"
   ]
  },
  {
   "cell_type": "code",
   "execution_count": 8,
   "id": "8da8b3adbe1abeaf",
   "metadata": {
    "ExecuteTime": {
     "end_time": "2024-10-28T17:07:17.126655Z",
     "start_time": "2024-10-28T17:07:17.097173Z"
    }
   },
   "outputs": [],
   "source": [
    "# take nodes, these are not the same as tasks!!!\n",
    "input_node = workflow_nodes[0]\n",
    "save_node = workflow_nodes[-2]\n",
    "\n",
    "execution_args = [\n",
    "    {\n",
    "        input_node: {\"bbox\": roi_bbox, \"time_interval\": time_interval},\n",
    "        save_node: {\"eopatch_folder\": \"eopatch_file\"},\n",
    "    }\n",
    "]\n",
    "\n",
    "executor = EOExecutor(workflow, execution_args, logs_folder=\"./reports\")"
   ]
  },
  {
   "cell_type": "code",
   "execution_count": 10,
   "id": "399c165c5bab335",
   "metadata": {
    "ExecuteTime": {
     "end_time": "2024-10-28T17:07:39.477456Z",
     "start_time": "2024-10-28T17:07:31.622427Z"
    }
   },
   "outputs": [
    {
     "data": {
      "application/vnd.jupyter.widget-view+json": {
       "model_id": "4a2731c71ec74497aeeacd6e81fb4945",
       "version_major": 2,
       "version_minor": 0
      },
      "text/plain": [
       "  0%|          | 0/1 [00:00<?, ?it/s]"
      ]
     },
     "metadata": {},
     "output_type": "display_data"
    },
    {
     "name": "stderr",
     "output_type": "stream",
     "text": [
      "C:\\Users\\blazr\\miniconda3\\envs\\sentinel_env\\lib\\site-packages\\eolearn\\visualization\\eoexecutor.py:62: EOUserWarning: failed to execute WindowsPath('dot'), make sure the Graphviz executables are on your systems' PATH.\n",
      "Please install the system package 'graphviz' (in addition to the python package) to have the dependency graph in the final report!\n",
      "  warnings.warn(\n"
     ]
    }
   ],
   "source": [
    "res = executor.run(workers=4)\n",
    "\n",
    "executor.make_report()\n",
    "\n",
    "failed_ids = executor.get_failed_executions()\n",
    "if failed_ids:\n",
    "    raise RuntimeError(\n",
    "        f\"Execution failed EOPatches with IDs:\\n{failed_ids}\\n\"\n",
    "        f\"For more info check report at {executor.get_report_path()}\"\n",
    "    )"
   ]
  },
  {
   "cell_type": "code",
   "execution_count": 11,
   "id": "52cc7efa2566ae59",
   "metadata": {
    "ExecuteTime": {
     "end_time": "2024-10-28T17:07:39.493294Z",
     "start_time": "2024-10-28T17:07:39.479428Z"
    }
   },
   "outputs": [
    {
     "data": {
      "text/plain": [
       "EOPatch(\n",
       "  bbox=BBox(((5.6, 52.63), (5.75, 52.68)), crs=CRS('4326'))\n",
       "  timestamps=[datetime.datetime(2024, 10, 26, 10, 56, 23)]\n",
       "  mask={\n",
       "    dataMask: numpy.ndarray(shape=(1, 297, 497, 1), dtype=bool)\n",
       "  }\n",
       "  data={\n",
       "    L1C_data: numpy.ndarray(shape=(1, 297, 497, 13), dtype=float32)\n",
       "  }\n",
       ")"
      ]
     },
     "execution_count": 11,
     "metadata": {},
     "output_type": "execute_result"
    }
   ],
   "source": [
    "eopatch = res[0].outputs[\"eopatch\"]\n",
    "eopatch"
   ]
  },
  {
   "cell_type": "code",
   "execution_count": 20,
   "id": "9bf559e9d054b878",
   "metadata": {
    "ExecuteTime": {
     "end_time": "2024-10-28T17:09:27.321421Z",
     "start_time": "2024-10-28T17:09:25.645594Z"
    }
   },
   "outputs": [],
   "source": [
    "eopatch.plot((FeatureType.DATA, \"L1C_data\"), times=[0], rgb=[3, 2, 1])\n",
    "plt.show()"
   ]
  },
  {
   "cell_type": "code",
   "execution_count": 69,
   "id": "f5d572cc527f59e6",
   "metadata": {
    "ExecuteTime": {
     "end_time": "2024-10-29T10:11:51.927747Z",
     "start_time": "2024-10-29T10:11:51.249008Z"
    }
   },
   "outputs": [
    {
     "name": "stdout",
     "output_type": "stream",
     "text": [
      "Dimension of the area is 243208 x 161608 m2\n"
     ]
    },
    {
     "name": "stderr",
     "output_type": "stream",
     "text": [
      "C:\\Users\\blazr\\AppData\\Local\\Temp\\ipykernel_10980\\1485639266.py:13: UserWarning: FigureCanvasAgg is non-interactive, and thus cannot be shown\n",
      "  plt.show()\n"
     ]
    }
   ],
   "source": [
    "import util.region as rt\n",
    "\n",
    "reload(rt)\n",
    "slo = rt.prepare_slo_shape()\n",
    "\n",
    "country_shape = slo.geometry.values[0]\n",
    "\n",
    "plt.axis(\"off\")\n",
    "country_width = country_shape.bounds[2] - country_shape.bounds[0]\n",
    "country_height = country_shape.bounds[3] - country_shape.bounds[1]\n",
    "print(f\"Dimension of the area is {country_width:.0f} x {country_height:.0f} m2\")\n",
    "slo.plot()\n",
    "plt.show()"
   ]
  },
  {
   "cell_type": "code",
   "execution_count": 70,
   "id": "24229808c630f729",
   "metadata": {
    "ExecuteTime": {
     "end_time": "2024-10-29T10:11:56.146739Z",
     "start_time": "2024-10-29T10:11:55.472165Z"
    }
   },
   "outputs": [
    {
     "data": {
      "text/html": [
       "<div>\n",
       "<style scoped>\n",
       "    .dataframe tbody tr th:only-of-type {\n",
       "        vertical-align: middle;\n",
       "    }\n",
       "\n",
       "    .dataframe tbody tr th {\n",
       "        vertical-align: top;\n",
       "    }\n",
       "\n",
       "    .dataframe thead th {\n",
       "        text-align: right;\n",
       "    }\n",
       "</style>\n",
       "<table border=\"1\" class=\"dataframe\">\n",
       "  <thead>\n",
       "    <tr style=\"text-align: right;\">\n",
       "      <th></th>\n",
       "      <th>index</th>\n",
       "      <th>index_x</th>\n",
       "      <th>index_y</th>\n",
       "      <th>geometry</th>\n",
       "    </tr>\n",
       "  </thead>\n",
       "  <tbody>\n",
       "    <tr>\n",
       "      <th>0</th>\n",
       "      <td>0</td>\n",
       "      <td>0</td>\n",
       "      <td>19</td>\n",
       "      <td>POLYGON ((368640.000 5125120.000, 368640.000 5...</td>\n",
       "    </tr>\n",
       "    <tr>\n",
       "      <th>1</th>\n",
       "      <td>1</td>\n",
       "      <td>1</td>\n",
       "      <td>17</td>\n",
       "      <td>POLYGON ((373760.000 5114880.000, 373760.000 5...</td>\n",
       "    </tr>\n",
       "    <tr>\n",
       "      <th>2</th>\n",
       "      <td>2</td>\n",
       "      <td>1</td>\n",
       "      <td>18</td>\n",
       "      <td>POLYGON ((373760.000 5120000.000, 373760.000 5...</td>\n",
       "    </tr>\n",
       "    <tr>\n",
       "      <th>3</th>\n",
       "      <td>3</td>\n",
       "      <td>1</td>\n",
       "      <td>19</td>\n",
       "      <td>POLYGON ((373760.000 5125120.000, 373760.000 5...</td>\n",
       "    </tr>\n",
       "    <tr>\n",
       "      <th>4</th>\n",
       "      <td>4</td>\n",
       "      <td>1</td>\n",
       "      <td>20</td>\n",
       "      <td>POLYGON ((373760.000 5130240.000, 373760.000 5...</td>\n",
       "    </tr>\n",
       "    <tr>\n",
       "      <th>...</th>\n",
       "      <td>...</td>\n",
       "      <td>...</td>\n",
       "      <td>...</td>\n",
       "      <td>...</td>\n",
       "    </tr>\n",
       "    <tr>\n",
       "      <th>895</th>\n",
       "      <td>895</td>\n",
       "      <td>47</td>\n",
       "      <td>25</td>\n",
       "      <td>POLYGON ((609280.000 5155840.000, 609280.000 5...</td>\n",
       "    </tr>\n",
       "    <tr>\n",
       "      <th>896</th>\n",
       "      <td>896</td>\n",
       "      <td>47</td>\n",
       "      <td>26</td>\n",
       "      <td>POLYGON ((609280.000 5160960.000, 609280.000 5...</td>\n",
       "    </tr>\n",
       "    <tr>\n",
       "      <th>897</th>\n",
       "      <td>897</td>\n",
       "      <td>48</td>\n",
       "      <td>23</td>\n",
       "      <td>POLYGON ((614400.000 5145600.000, 614400.000 5...</td>\n",
       "    </tr>\n",
       "    <tr>\n",
       "      <th>898</th>\n",
       "      <td>898</td>\n",
       "      <td>48</td>\n",
       "      <td>24</td>\n",
       "      <td>POLYGON ((614400.000 5150720.000, 614400.000 5...</td>\n",
       "    </tr>\n",
       "    <tr>\n",
       "      <th>899</th>\n",
       "      <td>899</td>\n",
       "      <td>48</td>\n",
       "      <td>25</td>\n",
       "      <td>POLYGON ((614400.000 5155840.000, 614400.000 5...</td>\n",
       "    </tr>\n",
       "  </tbody>\n",
       "</table>\n",
       "<p>900 rows × 4 columns</p>\n",
       "</div>"
      ],
      "text/plain": [
       "     index  index_x  index_y  \\\n",
       "0        0        0       19   \n",
       "1        1        1       17   \n",
       "2        2        1       18   \n",
       "3        3        1       19   \n",
       "4        4        1       20   \n",
       "..     ...      ...      ...   \n",
       "895    895       47       25   \n",
       "896    896       47       26   \n",
       "897    897       48       23   \n",
       "898    898       48       24   \n",
       "899    899       48       25   \n",
       "\n",
       "                                              geometry  \n",
       "0    POLYGON ((368640.000 5125120.000, 368640.000 5...  \n",
       "1    POLYGON ((373760.000 5114880.000, 373760.000 5...  \n",
       "2    POLYGON ((373760.000 5120000.000, 373760.000 5...  \n",
       "3    POLYGON ((373760.000 5125120.000, 373760.000 5...  \n",
       "4    POLYGON ((373760.000 5130240.000, 373760.000 5...  \n",
       "..                                                 ...  \n",
       "895  POLYGON ((609280.000 5155840.000, 609280.000 5...  \n",
       "896  POLYGON ((609280.000 5160960.000, 609280.000 5...  \n",
       "897  POLYGON ((614400.000 5145600.000, 614400.000 5...  \n",
       "898  POLYGON ((614400.000 5150720.000, 614400.000 5...  \n",
       "899  POLYGON ((614400.000 5155840.000, 614400.000 5...  \n",
       "\n",
       "[900 rows x 4 columns]"
      ]
     },
     "execution_count": 70,
     "metadata": {},
     "output_type": "execute_result"
    }
   ],
   "source": [
    "import util.region as rt\n",
    "\n",
    "reload(rt)\n",
    "chunks, bbox_list = rt.prepare_slo_chunks()\n",
    "chunks"
   ]
  },
  {
   "cell_type": "code",
   "execution_count": 25,
   "id": "f7e94d5561544d9d",
   "metadata": {
    "ExecuteTime": {
     "end_time": "2024-10-28T18:29:11.907319Z",
     "start_time": "2024-10-28T18:29:11.893459Z"
    }
   },
   "outputs": [
    {
     "data": {
      "text/plain": [
       "<Projected CRS: EPSG:32633>\n",
       "Name: WGS 84 / UTM zone 33N\n",
       "Axis Info [cartesian]:\n",
       "- E[east]: Easting (metre)\n",
       "- N[north]: Northing (metre)\n",
       "Area of Use:\n",
       "- name: Between 12°E and 18°E, northern hemisphere between equator and 84°N, onshore and offshore. Austria. Bosnia and Herzegovina. Cameroon. Central African Republic. Chad. Congo. Croatia. Czechia. Democratic Republic of the Congo (Zaire). Gabon. Germany. Hungary. Italy. Libya. Malta. Niger. Nigeria. Norway. Poland. San Marino. Slovakia. Slovenia. Svalbard. Sweden. Vatican City State.\n",
       "- bounds: (12.0, 0.0, 18.0, 84.0)\n",
       "Coordinate Operation:\n",
       "- name: UTM zone 33N\n",
       "- method: Transverse Mercator\n",
       "Datum: World Geodetic System 1984 ensemble\n",
       "- Ellipsoid: WGS 84\n",
       "- Prime Meridian: Greenwich"
      ]
     },
     "execution_count": 25,
     "metadata": {},
     "output_type": "execute_result"
    }
   ],
   "source": [
    "chunks.crs"
   ]
  },
  {
   "cell_type": "code",
   "execution_count": 73,
   "id": "2f2913d6ef8ebacf",
   "metadata": {
    "ExecuteTime": {
     "end_time": "2024-10-29T10:14:14.673834Z",
     "start_time": "2024-10-29T10:14:11.529682Z"
    }
   },
   "outputs": [
    {
     "name": "stderr",
     "output_type": "stream",
     "text": [
      "C:\\Users\\blazr\\AppData\\Local\\Temp\\ipykernel_10980\\777527452.py:1: RuntimeWarning: More than 20 figures have been opened. Figures created through the pyplot interface (`matplotlib.pyplot.figure`) are retained until explicitly closed and may consume too much memory. (To control this warning, see the rcParam `figure.max_open_warning`). Consider using `matplotlib.pyplot.close()`.\n",
      "  fig, ax = plt.subplots(figsize=(30, 30))\n"
     ]
    },
    {
     "name": "stdout",
     "output_type": "stream",
     "text": [
      "Fixing bbox chunk size to 5120, resolution and patch_size are ignored.\n"
     ]
    },
    {
     "name": "stderr",
     "output_type": "stream",
     "text": [
      "C:\\Users\\blazr\\AppData\\Local\\Temp\\ipykernel_10980\\777527452.py:12: UserWarning: FigureCanvasAgg is non-interactive, and thus cannot be shown\n",
      "  plt.show()\n"
     ]
    }
   ],
   "source": [
    "fig, ax = plt.subplots(figsize=(30, 30))\n",
    "chunks, bbox_list = rt.prepare_slo_chunks(\n",
    "    resolution=20, patch_size=512, fixed_meter_patch_size=5120\n",
    ")\n",
    "ax.set_title(\"Tiles of Slovenia\", fontsize=25)\n",
    "slo.plot(ax=ax, facecolor=\"w\", edgecolor=\"b\", alpha=0.5)\n",
    "chunks.plot(ax=ax, facecolor=\"w\", edgecolor=\"r\", alpha=0.5)\n",
    "\n",
    "for i, row in chunks.iterrows():\n",
    "    geo = row[\"geometry\"]\n",
    "    ax.text(geo.centroid.x, geo.centroid.y, row[\"index\"], ha=\"center\", va=\"center\")\n",
    "\n",
    "plt.axis(\"off\")\n",
    "plt.show()\n",
    "plt.savefig(\"box.png\")"
   ]
  },
  {
   "cell_type": "code",
   "execution_count": 2,
   "id": "c06b9806a5f32535",
   "metadata": {
    "ExecuteTime": {
     "end_time": "2024-10-29T14:21:17.898326Z",
     "start_time": "2024-10-29T14:20:51.863233Z"
    }
   },
   "outputs": [
    {
     "name": "stdout",
     "output_type": "stream",
     "text": [
      "Setting chunk sizes to 5120x5120 m^2.\n"
     ]
    },
    {
     "name": "stderr",
     "output_type": "stream",
     "text": [
      "100%|██████████| 16/16 [00:24<00:00,  1.50s/it]\n",
      "C:\\Users\\blazr\\miniconda3\\envs\\sentinel_env\\lib\\site-packages\\eolearn\\visualization\\eoexecutor.py:62: EOUserWarning: failed to execute WindowsPath('dot'), make sure the Graphviz executables are on your systems' PATH.\n",
      "Please install the system package 'graphviz' (in addition to the python package) to have the dependency graph in the final report!\n",
      "  warnings.warn(\n"
     ]
    }
   ],
   "source": [
    "resolution = 10\n",
    "patch_size = 512\n",
    "collection = DataCollection.SENTINEL2_L1C\n",
    "config = SHConfig(\"sentinel-dl\")\n",
    "start_date = \"29-10-2024\"\n",
    "maxcc = 0.2\n",
    "\n",
    "import util.region as rt\n",
    "\n",
    "reload(rt)\n",
    "import util.workflows as wf\n",
    "\n",
    "reload(wf)\n",
    "import util.time as t\n",
    "\n",
    "reload(t)\n",
    "\n",
    "from util.workflows import prepare_workflow, execute_flow\n",
    "from util.region import prepare_slo_chunks\n",
    "from util.time import get_last_month_span\n",
    "\n",
    "collection = DataCollection.SENTINEL2_L1C\n",
    "_, bbox_list = prepare_slo_chunks(resolution=resolution, patch_size=patch_size)\n",
    "workflow, node_map = prepare_workflow(\n",
    "    out_dir=\"./patches\",\n",
    "    config=config,\n",
    "    resolution=resolution,\n",
    "    data_collection=collection,\n",
    "    maxcc=maxcc,\n",
    ")\n",
    "\n",
    "time_of_interest = get_last_month_span(start_date)\n",
    "\n",
    "execute_flow(\n",
    "    workflow=workflow,\n",
    "    node_map=node_map,\n",
    "    bbox_list=bbox_list,\n",
    "    num_workers=4,\n",
    "    time_interval=time_of_interest,\n",
    ")"
   ]
  },
  {
   "cell_type": "code",
   "execution_count": 99,
   "id": "f267e62899db63",
   "metadata": {
    "ExecuteTime": {
     "end_time": "2024-10-29T14:16:29.710180Z",
     "start_time": "2024-10-29T14:16:29.460091Z"
    }
   },
   "outputs": [
    {
     "data": {
      "text/plain": [
       "(1, 512, 512, 13)"
      ]
     },
     "execution_count": 99,
     "metadata": {},
     "output_type": "execute_result"
    }
   ],
   "source": [
    "ld = EOPatch.load(\"patches/patch_0\", lazy_loading=True)\n",
    "ld.data[\"data\"].shape"
   ]
  },
  {
   "cell_type": "code",
   "id": "f88512ef90c444e5",
   "metadata": {
    "ExecuteTime": {
     "end_time": "2024-10-29T14:25:49.663721Z",
     "start_time": "2024-10-29T14:25:46.205780Z"
    }
   },
   "source": [
    "# Draw the RGB images\n",
    "fig, axs = plt.subplots(nrows=4, ncols=4, figsize=(20, 20))\n",
    "\n",
    "for i in range(15):\n",
    "    eopatch_path = Path(\"./patches\") / start_date / f\"patch_{i}\"\n",
    "    eopatch = EOPatch.load(eopatch_path, lazy_loading=True)\n",
    "\n",
    "    ax = axs[i // 4][i % 4]\n",
    "    ax.imshow(np.clip(eopatch.data[\"data\"][0][..., [3, 2, 1]] * 3.5, 0, 1))\n",
    "    ax.set_xticks([])\n",
    "    ax.set_yticks([])\n",
    "    ax.set_aspect(\"auto\")\n",
    "    del eopatch\n",
    "\n",
    "fig.subplots_adjust(wspace=0, hspace=0)\n",
    "plt.savefig(\"geo_l.png\")"
   ],
   "outputs": [],
   "execution_count": 4
  },
  {
   "cell_type": "code",
   "execution_count": 88,
   "id": "d0b4a104123a3db6",
   "metadata": {
    "ExecuteTime": {
     "end_time": "2024-10-29T14:03:39.750263Z",
     "start_time": "2024-10-29T14:03:37.024645Z"
    }
   },
   "outputs": [],
   "source": [
    "# Draw the RGB images\n",
    "fig, axs = plt.subplots(nrows=3, ncols=2, figsize=(20, 20))\n",
    "\n",
    "for p_idx, (i, j) in enumerate(zip([0, 2, 1, 0], [0, 1, 1, 1])):\n",
    "    eopatch_path = Path(\"./patches\") / start_date / f\"patch_{p_idx}\"\n",
    "    eopatch = EOPatch.load(eopatch_path, lazy_loading=True)\n",
    "\n",
    "    ax = axs[i][j]\n",
    "    ax.imshow(np.clip(eopatch.data[\"data\"][0][..., [3, 2, 1]], 0, 1))\n",
    "    ax.set_xticks([])\n",
    "    ax.set_yticks([])\n",
    "    ax.set_aspect(\"auto\")\n",
    "    del eopatch\n",
    "\n",
    "fig.subplots_adjust(wspace=0, hspace=0)\n",
    "plt.savefig(\"geo.png\")"
   ]
  },
  {
   "cell_type": "code",
   "execution_count": 33,
   "id": "44b5cd052ce3ae50",
   "metadata": {
    "ExecuteTime": {
     "end_time": "2024-10-28T18:33:53.552261Z",
     "start_time": "2024-10-28T18:33:53.020146Z"
    }
   },
   "outputs": [],
   "source": [
    "# Draw the RGB images resolution=20\n",
    "fig, axs = plt.subplots(nrows=3, ncols=2, figsize=(20, 20))\n",
    "\n",
    "for p_idx, (i, j) in enumerate(zip([0], [0])):\n",
    "    eopatch_path = Path(\"./patches2\") / f\"patch_{p_idx}\"\n",
    "    eopatch = EOPatch.load(eopatch_path, lazy_loading=True)\n",
    "\n",
    "    ax = axs[i][j]\n",
    "    ax.imshow(np.clip(eopatch.data[\"data\"][0][..., [3, 2, 1]], 0, 1))\n",
    "    ax.set_xticks([])\n",
    "    ax.set_yticks([])\n",
    "    ax.set_aspect(\"auto\")\n",
    "    del eopatch\n",
    "\n",
    "fig.subplots_adjust(wspace=0, hspace=0)\n",
    "plt.savefig(\"geo2.png\")"
   ]
  },
  {
   "cell_type": "code",
   "execution_count": null,
   "id": "aab9a8e5d5ff961",
   "metadata": {},
   "outputs": [],
   "source": []
  }
 ],
 "metadata": {
  "kernelspec": {
   "display_name": "Python 3",
   "language": "python",
   "name": "python3"
  },
  "language_info": {
   "codemirror_mode": {
    "name": "ipython",
    "version": 2
   },
   "file_extension": ".py",
   "mimetype": "text/x-python",
   "name": "python",
   "nbconvert_exporter": "python",
   "pygments_lexer": "ipython2",
   "version": "2.7.6"
  }
 },
 "nbformat": 4,
 "nbformat_minor": 5
}
