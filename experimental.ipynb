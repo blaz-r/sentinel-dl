{
 "cells": [
  {
   "cell_type": "code",
   "id": "initial_id",
   "metadata": {
    "collapsed": true,
    "ExecuteTime": {
     "end_time": "2024-10-25T11:52:31.085262Z",
     "start_time": "2024-10-25T11:52:31.077621Z"
    }
   },
   "source": [
    "from dateutil.relativedelta import relativedelta\n",
    "from dateutil.utils import today\n",
    "from eolearn.core import FeatureType, SaveTask, linearly_connect_tasks, EOWorkflow, EOExecutor\n",
    "from eolearn.io import get_available_timestamps, SentinelHubInputTask\n",
    "from sentinelhub import SHConfig, BBox, CRS, DataCollection\n",
    "from matplotlib import pyplot as plt\n"
   ],
   "outputs": [],
   "execution_count": 55
  },
  {
   "metadata": {
    "ExecuteTime": {
     "end_time": "2024-10-25T11:52:31.316463Z",
     "start_time": "2024-10-25T11:52:31.292323Z"
    }
   },
   "cell_type": "code",
   "source": "config = SHConfig(profile=\"sentinel-dl\")",
   "id": "e933794fe1fb871b",
   "outputs": [],
   "execution_count": 56
  },
  {
   "metadata": {
    "ExecuteTime": {
     "end_time": "2024-10-25T11:52:31.563440Z",
     "start_time": "2024-10-25T11:52:31.555020Z"
    }
   },
   "cell_type": "code",
   "source": "roi_bbox = BBox(bbox=(5.60, 52.68, 5.75, 52.63), crs=CRS.WGS84)",
   "id": "2c269af2f03fe0c6",
   "outputs": [],
   "execution_count": 57
  },
  {
   "metadata": {
    "ExecuteTime": {
     "end_time": "2024-10-25T11:52:31.735285Z",
     "start_time": "2024-10-25T11:52:31.723216Z"
    }
   },
   "cell_type": "code",
   "source": [
    "def get_last_two_timestamps(data_collection):\n",
    "    today_ts = today()\n",
    "    two_months_ago_ts = today_ts - relativedelta(months=2)\n",
    "    time_of_interest = (two_months_ago_ts, today_ts)\n",
    "    \n",
    "    timestamps = get_available_timestamps(bbox=roi_bbox, time_interval=time_of_interest, data_collection=data_collection,  config=config)\n",
    "    return timestamps[-2:]"
   ],
   "id": "9ddd872037b54158",
   "outputs": [],
   "execution_count": 58
  },
  {
   "metadata": {
    "ExecuteTime": {
     "end_time": "2024-10-25T11:52:32.234309Z",
     "start_time": "2024-10-25T11:52:31.894327Z"
    }
   },
   "cell_type": "code",
   "source": [
    "# max cloud cover\n",
    "maxcc = 0.8\n",
    "\n",
    "# meters\n",
    "resolution = 20\n",
    "\n",
    "data_collection = DataCollection.SENTINEL2_L1C\n",
    "\n",
    "time_interval = get_last_two_timestamps(data_collection)\n",
    "\n",
    "input_task = SentinelHubInputTask(\n",
    "    data_collection=data_collection,\n",
    "    # bands=[\"B01\", \"B02\", \"B03\", \"B04\", \"B05\", \"B06\", \"B07\", \"B08\", \"B8A\", \"B09\", \"B10\", \"B11\", \"B12\"] # if not passed, it will download all\n",
    "    bands_feature=(FeatureType.DATA, \"L1C_data\"),\n",
    "    additional_data=[(FeatureType.MASK, \"dataMask\")],   # cloud mask\n",
    "    maxcc=maxcc, \n",
    "    resolution=resolution,\n",
    "    config=config,  # important since we are using sentinel-dl, alternatively save ID and secret to default profile\n",
    ")"
   ],
   "id": "c37427030a7a8253",
   "outputs": [],
   "execution_count": 59
  },
  {
   "metadata": {},
   "cell_type": "markdown",
   "source": "besides L1C we can also get L2A, SCL, NDWI... Refer to this guide: https://github.com/sentinel-hub/eo-learn/blob/master/examples/io/SentinelHubIO.ipynb",
   "id": "4fc744201a7ac087"
  },
  {
   "metadata": {
    "ExecuteTime": {
     "end_time": "2024-10-25T11:52:33.779481Z",
     "start_time": "2024-10-25T11:52:33.762905Z"
    }
   },
   "cell_type": "code",
   "source": "save = SaveTask(\"eopatch_fd\")",
   "id": "2b874d95214804be",
   "outputs": [],
   "execution_count": 60
  },
  {
   "metadata": {
    "ExecuteTime": {
     "end_time": "2024-10-25T11:59:16.017521Z",
     "start_time": "2024-10-25T11:59:16.009171Z"
    }
   },
   "cell_type": "code",
   "source": [
    "workflow_nodes = linearly_connect_tasks(input_task, save)\n",
    "workflow = EOWorkflow(workflow_nodes)\n",
    "# workflow.dependency_graph() additionally install graphviz and eo-learn[VISUALIZATION]"
   ],
   "id": "35f02947402e378e",
   "outputs": [],
   "execution_count": 68
  },
  {
   "metadata": {
    "ExecuteTime": {
     "end_time": "2024-10-25T11:59:16.373425Z",
     "start_time": "2024-10-25T11:59:16.312053Z"
    }
   },
   "cell_type": "code",
   "source": [
    "# take nodes, these are not the same as tasks!!!\n",
    "input_node = workflow_nodes[0]\n",
    "save_node = workflow_nodes[-1]\n",
    "\n",
    "execution_args = [{\n",
    "        input_node: {\"bbox\": roi_bbox, \"time_interval\": time_interval},\n",
    "        save_node: {\"eopatch_folder\": \"eopatch_file\"}\n",
    "}]\n",
    "\n",
    "executor = EOExecutor(workflow, execution_args)"
   ],
   "id": "8da8b3adbe1abeaf",
   "outputs": [],
   "execution_count": 69
  },
  {
   "metadata": {
    "ExecuteTime": {
     "end_time": "2024-10-25T12:00:39.611841Z",
     "start_time": "2024-10-25T12:00:33.352836Z"
    }
   },
   "cell_type": "code",
   "source": [
    "executor.run(workers=4)\n",
    "\n",
    "executor.make_report()\n",
    "\n",
    "failed_ids = executor.get_failed_executions()\n",
    "if failed_ids:\n",
    "    raise RuntimeError(\n",
    "        f\"Execution failed EOPatches with IDs:\\n{failed_ids}\\n\"\n",
    "        f\"For more info check report at {executor.get_report_path()}\"\n",
    "    )"
   ],
   "id": "399c165c5bab335",
   "outputs": [
    {
     "name": "stderr",
     "output_type": "stream",
     "text": [
      "100%|██████████| 1/1 [00:05<00:00,  5.50s/it]\n",
      "C:\\Users\\blazr\\miniconda3\\envs\\sentinel_env\\lib\\site-packages\\eolearn\\visualization\\eoexecutor.py:62: EOUserWarning: failed to execute WindowsPath('dot'), make sure the Graphviz executables are on your systems' PATH.\n",
      "Please install the system package 'graphviz' (in addition to the python package) to have the dependency graph in the final report!\n",
      "  warnings.warn(\n"
     ]
    }
   ],
   "execution_count": 70
  },
  {
   "metadata": {},
   "cell_type": "code",
   "outputs": [],
   "execution_count": null,
   "source": "",
   "id": "9e6683ae82b4aec6"
  }
 ],
 "metadata": {
  "kernelspec": {
   "display_name": "Python 3",
   "language": "python",
   "name": "python3"
  },
  "language_info": {
   "codemirror_mode": {
    "name": "ipython",
    "version": 2
   },
   "file_extension": ".py",
   "mimetype": "text/x-python",
   "name": "python",
   "nbconvert_exporter": "python",
   "pygments_lexer": "ipython2",
   "version": "2.7.6"
  }
 },
 "nbformat": 4,
 "nbformat_minor": 5
}
